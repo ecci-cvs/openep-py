{
 "cells": [
  {
   "cell_type": "code",
   "execution_count": 1,
   "metadata": {},
   "outputs": [],
   "source": [
    "import numpy as np\n",
    "import pyvista"
   ]
  },
  {
   "cell_type": "code",
   "execution_count": 2,
   "metadata": {},
   "outputs": [],
   "source": [
    "import openep\n",
    "from openep._datasets.openep_datasets import DATASET_2"
   ]
  },
  {
   "cell_type": "code",
   "execution_count": 3,
   "metadata": {},
   "outputs": [
    {
     "data": {
      "text/html": [
       "<table><tr><th>Header</th><th>Data Arrays</th></tr><tr><td>\n",
       "<table>\n",
       "<tr><th>PolyData</th><th>Information</th></tr>\n",
       "<tr><td>N Cells</td><td>16942</td></tr>\n",
       "<tr><td>N Points</td><td>14383</td></tr>\n",
       "<tr><td>X Bounds</td><td>-7.584e+01, 6.374e+01</td></tr>\n",
       "<tr><td>Y Bounds</td><td>-1.300e+02, -3.585e+01</td></tr>\n",
       "<tr><td>Z Bounds</td><td>7.937e+01, 1.712e+02</td></tr>\n",
       "<tr><td>N Arrays</td><td>4</td></tr>\n",
       "</table>\n",
       "\n",
       "</td><td>\n",
       "<table>\n",
       "<tr><th>Name</th><th>Field</th><th>Type</th><th>N Comp</th><th>Min</th><th>Max</th></tr>\n",
       "<tr><td>Thickness</td><td>Points</td><td>float64</td><td>1</td><td>2.000e+00</td><td>2.000e+00</td></tr>\n",
       "<tr><td><b>Colour</b></td><td>Points</td><td>float64</td><td>1</td><td>0.000e+00</td><td>0.000e+00</td></tr>\n",
       "<tr><td>Normals</td><td>Points</td><td>float32</td><td>3</td><td>-1.000e+00</td><td>1.000e+00</td></tr>\n",
       "<tr><td>Normals</td><td>Cells</td><td>float32</td><td>3</td><td>-1.000e+00</td><td>1.000e+00</td></tr>\n",
       "</table>\n",
       "\n",
       "</td></tr> </table>"
      ],
      "text/plain": [
       "PolyData (0x7fb2c26cbfa0)\n",
       "  N Cells:\t16942\n",
       "  N Points:\t14383\n",
       "  X Bounds:\t-7.584e+01, 6.374e+01\n",
       "  Y Bounds:\t-1.300e+02, -3.585e+01\n",
       "  Z Bounds:\t7.937e+01, 1.712e+02\n",
       "  N Arrays:\t4"
      ]
     },
     "execution_count": 3,
     "metadata": {},
     "output_type": "execute_result"
    }
   ],
   "source": [
    "case = openep.load_openep_mat(DATASET_2)\n",
    "endo = case.create_mesh()\n",
    "endo.point_data['Thickness'] = np.full(endo.n_points, fill_value=2, dtype=float)\n",
    "endo.point_data['Colour'] = np.full(endo.n_points, fill_value=0, dtype=float)\n",
    "endo.compute_normals(inplace=True)"
   ]
  },
  {
   "cell_type": "code",
   "execution_count": 4,
   "metadata": {},
   "outputs": [],
   "source": [
    "epi = endo.copy(deep=True)\n",
    "epi.points += epi.point_data['Normals'] * epi.point_data['Thickness'][:, np.newaxis]\n",
    "epi.point_data['Colour'][:] = 1\n"
   ]
  },
  {
   "cell_type": "code",
   "execution_count": 5,
   "metadata": {},
   "outputs": [],
   "source": [
    "combined = endo + epi\n",
    "combined.set_active_scalars('Colour')"
   ]
  },
  {
   "cell_type": "code",
   "execution_count": 6,
   "metadata": {},
   "outputs": [],
   "source": [
    "def round_up(value, nearest):\n",
    "    return np.ceil(value / nearest) * nearest\n",
    "def round_down(value, nearest):\n",
    "    return np.floor(value / nearest) * nearest\n"
   ]
  },
  {
   "cell_type": "code",
   "execution_count": 7,
   "metadata": {},
   "outputs": [],
   "source": [
    "slice_thickness = 10  # mm\n",
    "low_values = np.asarray(combined.bounds[::2])\n",
    "high_values = np.asarray(combined.bounds[1::2])\n",
    "\n",
    "low_values = round_down(low_values, nearest=slice_thickness) - slice_thickness / 2\n",
    "high_values = round_up(high_values, nearest=slice_thickness) + slice_thickness / 2\n"
   ]
  },
  {
   "cell_type": "code",
   "execution_count": 8,
   "metadata": {},
   "outputs": [],
   "source": [
    "low_x, low_y, low_z = low_values\n",
    "high_x, high_y, high_z = high_values\n",
    "bounds = np.asarray([low_x, high_x, low_y, high_y, low_z, high_z])\n",
    "\n",
    "n_slices = (1 + (high_values - low_values) / slice_thickness).astype(int)\n",
    "centre = (low_values + high_values) / 2\n"
   ]
  },
  {
   "cell_type": "code",
   "execution_count": 51,
   "metadata": {},
   "outputs": [],
   "source": [
    "axis = 0\n",
    "slices = combined.slice_along_axis(\n",
    "    n=n_slices[axis]-1,\n",
    "    axis=axis,\n",
    "    bounds=bounds,\n",
    ")\n"
   ]
  },
  {
   "cell_type": "code",
   "execution_count": 52,
   "metadata": {},
   "outputs": [
    {
     "data": {
      "text/html": [
       "<table><tr><th>Information</th><th>Blocks</th></tr><tr><td>\n",
       "<table>\n",
       "<tr><th>MultiBlock</th><th>Values</th></tr>\n",
       "<tr><td>N Blocks</td><td>13</td></tr>\n",
       "<tr><td>X Bounds</td><td>-63.083, 43.083</td></tr>\n",
       "<tr><td>Y Bounds</td><td>-128.693, -47.075</td></tr>\n",
       "<tr><td>Z Bounds</td><td>99.302, 167.034</td></tr>\n",
       "</table>\n",
       "\n",
       "</td><td>\n",
       "<table>\n",
       "<tr><th>Index</th><th>Name</th><th>Type</th></tr>\n",
       "<tr><th>0</th><th>slice0</th><th>PolyData</th></tr>\n",
       "<tr><th>1</th><th>slice1</th><th>PolyData</th></tr>\n",
       "<tr><th>2</th><th>slice2</th><th>PolyData</th></tr>\n",
       "<tr><th>3</th><th>slice3</th><th>PolyData</th></tr>\n",
       "<tr><th>4</th><th>slice4</th><th>PolyData</th></tr>\n",
       "<tr><th>5</th><th>slice5</th><th>PolyData</th></tr>\n",
       "<tr><th>6</th><th>slice6</th><th>PolyData</th></tr>\n",
       "<tr><th>7</th><th>slice7</th><th>PolyData</th></tr>\n",
       "<tr><th>8</th><th>slice8</th><th>PolyData</th></tr>\n",
       "<tr><th>9</th><th>slice9</th><th>PolyData</th></tr>\n",
       "<tr><th>10</th><th>slice10</th><th>PolyData</th></tr>\n",
       "<tr><th>11</th><th>slice11</th><th>PolyData</th></tr>\n",
       "<tr><th>12</th><th>slice12</th><th>PolyData</th></tr>\n",
       "</table>\n",
       "\n",
       "</td></tr> </table>"
      ],
      "text/plain": [
       "MultiBlock (0x7f9578f3e340)\n",
       "  N Blocks:\t13\n",
       "  X Bounds:\t-63.083, 43.083\n",
       "  Y Bounds:\t-128.693, -47.075\n",
       "  Z Bounds:\t99.302, 167.034"
      ]
     },
     "execution_count": 52,
     "metadata": {},
     "output_type": "execute_result"
    }
   ],
   "source": [
    "slices"
   ]
  },
  {
   "cell_type": "code",
   "execution_count": 55,
   "metadata": {},
   "outputs": [
    {
     "data": {
      "text/plain": [
       "pyvista_ndarray([[-63.08333333, -74.65703586, 129.63707987],\n",
       "                 [-63.08333333, -75.24196636, 130.09186544],\n",
       "                 [-63.08333333, -72.85271498, 123.68514493],\n",
       "                 [-63.08333333, -72.96192855, 124.52094124],\n",
       "                 [-63.08333333, -73.23269667, 128.4690227 ],\n",
       "                 [-63.08333333, -73.25753175, 128.50532187],\n",
       "                 [-63.08333333, -75.5663903 , 130.3954157 ],\n",
       "                 [-63.08333333, -72.91636259, 121.09522025],\n",
       "                 [-63.08333333, -72.75560402, 121.96885095],\n",
       "                 [-63.08333333, -72.77251348, 122.76362244],\n",
       "                 [-63.08333333, -73.02947113, 125.94066348],\n",
       "                 [-63.08333333, -72.93380866, 126.32119403],\n",
       "                 [-63.08333333, -73.41216316, 128.63192693],\n",
       "                 [-63.08333333, -73.01034785, 120.81506545],\n",
       "                 [-63.08333333, -72.79558118, 126.82709755],\n",
       "                 [-63.08333333, -72.90796044, 127.36877448],\n",
       "                 [-63.08333333, -75.52062137, 119.44505055],\n",
       "                 [-63.08333333, -75.38754888, 119.45778365],\n",
       "                 [-63.08333333, -73.31465538, 120.47736328],\n",
       "                 [-63.08333333, -73.01191179, 125.29873252],\n",
       "                 [-63.08333333, -74.32767449, 129.44156651],\n",
       "                 [-63.08333333, -73.76202977, 119.92519791],\n",
       "                 [-63.08333333, -74.54416606, 119.49527365],\n",
       "                 [-63.08333333, -73.20638531, 128.30539831],\n",
       "                 [-63.08333333, -74.11102541, 119.70590407],\n",
       "                 [-63.08333333, -76.97361825, 119.87012435],\n",
       "                 [-63.08333333, -75.61461044, 119.45241633],\n",
       "                 [-63.08333333, -77.18451589, 119.93525203],\n",
       "                 [-63.08333333, -77.33707645, 119.98524057],\n",
       "                 [-63.08333333, -75.55582232, 119.44819824],\n",
       "                 [-63.08333333, -77.44536552, 120.06235172],\n",
       "                 [-63.08333333, -75.91902457, 130.7425561 ],\n",
       "                 [-63.08333333, -75.93952593, 130.76272922],\n",
       "                 [-63.08333333, -77.36932916, 137.48242308],\n",
       "                 [-63.08333333, -77.44325967, 137.28277149],\n",
       "                 [-63.08333333, -71.75904148, 131.55754893],\n",
       "                 [-63.08333333, -72.76116752, 131.95897079],\n",
       "                 [-63.08333333, -73.00742519, 132.12760046],\n",
       "                 [-63.08333333, -76.14602267, 143.3752339 ],\n",
       "                 [-63.08333333, -76.08448638, 143.09200354],\n",
       "                 [-63.08333333, -69.46151582, 130.49277055],\n",
       "                 [-63.08333333, -69.45893293, 130.53710838],\n",
       "                 [-63.08333333, -69.16215249, 129.26939622],\n",
       "                 [-63.08333333, -73.1594215 , 137.62049792],\n",
       "                 [-63.08333333, -73.39919979, 137.89718464],\n",
       "                 [-63.08333333, -74.0635537 , 138.47483906],\n",
       "                 [-63.08333333, -75.01910425, 138.74158427],\n",
       "                 [-63.08333333, -72.64529975, 134.86321154],\n",
       "                 [-63.08333333, -72.315491  , 135.45407375],\n",
       "                 [-63.08333333, -72.96450697, 138.07260947],\n",
       "                 [-63.08333333, -72.69661389, 137.94271823],\n",
       "                 [-63.08333333, -77.50552604, 137.20768636],\n",
       "                 [-63.08333333, -70.72017496, 120.75704737],\n",
       "                 [-63.08333333, -70.45835866, 121.58128152],\n",
       "                 [-63.08333333, -72.81827069, 138.3694796 ],\n",
       "                 [-63.08333333, -72.57053753, 136.22774889],\n",
       "                 [-63.08333333, -69.42973363, 130.583253  ],\n",
       "                 [-63.08333333, -69.51318882, 130.64630153],\n",
       "                 [-63.08333333, -75.41109827, 138.36722891],\n",
       "                 [-63.08333333, -70.47306906, 124.81568705],\n",
       "                 [-63.08333333, -70.44268074, 124.93493401],\n",
       "                 [-63.08333333, -70.29052626, 125.89195287],\n",
       "                 [-63.08333333, -70.02004891, 126.98234652],\n",
       "                 [-63.08333333, -73.21970199, 132.64525506],\n",
       "                 [-63.08333333, -73.27754224, 132.78288497],\n",
       "                 [-63.08333333, -70.42558649, 123.42891509],\n",
       "                 [-63.08333333, -71.80938005, 135.48249438],\n",
       "                 [-63.08333333, -71.01156174, 119.9043348 ],\n",
       "                 [-63.08333333, -75.58221652, 117.44536912],\n",
       "                 [-63.08333333, -74.84526076, 117.54655871],\n",
       "                 [-63.08333333, -76.08367733, 143.43940222],\n",
       "                 [-63.08333333, -72.57133036, 136.73030507],\n",
       "                 [-63.08333333, -72.93014933, 137.32638248],\n",
       "                 [-63.08333333, -72.31934848, 118.54954221],\n",
       "                 [-63.08333333, -70.46897234, 122.95123525],\n",
       "                 [-63.08333333, -73.31779296, 133.11554116],\n",
       "                 [-63.08333333, -72.47189322, 118.35342818],\n",
       "                 [-63.08333333, -69.68301355, 127.59914771],\n",
       "                 [-63.08333333, -69.52036206, 128.9551275 ],\n",
       "                 [-63.08333333, -73.92110892, 117.59605678],\n",
       "                 [-63.08333333, -75.96173969, 142.57656426],\n",
       "                 [-63.08333333, -69.84808563, 130.73952005],\n",
       "                 [-63.08333333, -71.50268096, 131.46980362],\n",
       "                 [-63.08333333, -72.85693648, 118.12835515],\n",
       "                 [-63.08333333, -75.3304029 , 141.65265557],\n",
       "                 [-63.08333333, -74.74509715, 141.10217733],\n",
       "                 [-63.08333333, -74.26871605, 140.02474441],\n",
       "                 [-63.08333333, -73.53042719, 139.17746236],\n",
       "                 [-63.08333333, -70.57191204, 135.12413545],\n",
       "                 [-63.08333333, -70.46644874, 135.09444152],\n",
       "                 [-63.08333333, -76.71706447, 145.53033455],\n",
       "                 [-63.08333333, -76.7315184 , 145.42283225],\n",
       "                 [-63.08333333, -76.70397375, 145.61669405],\n",
       "                 [-63.08333333, -76.56998983, 144.71880368],\n",
       "                 [-63.08333333, -76.96985901, 117.62460106],\n",
       "                 [-63.08333333, -76.69509757, 117.55121416],\n",
       "                 [-63.08333333, -77.0014239 , 117.63238422],\n",
       "                 [-63.08333333, -75.90268507, 117.45559919],\n",
       "                 [-63.08333333, -77.73853305, 137.00288841],\n",
       "                 [-63.08333333, -79.22302289, 135.60904514]])"
      ]
     },
     "execution_count": 55,
     "metadata": {},
     "output_type": "execute_result"
    }
   ],
   "source": [
    "slices[1].points"
   ]
  },
  {
   "cell_type": "code",
   "execution_count": 56,
   "metadata": {},
   "outputs": [
    {
     "data": {
      "text/plain": [
       "array([ -75.,   55., -145.,  -35.,   85.,  175.])"
      ]
     },
     "execution_count": 56,
     "metadata": {},
     "output_type": "execute_result"
    }
   ],
   "source": [
    "bounds"
   ]
  },
  {
   "cell_type": "code",
   "execution_count": 88,
   "metadata": {},
   "outputs": [
    {
     "data": {
      "application/vnd.jupyter.widget-view+json": {
       "model_id": "5985a37bbbb441f1a63003be003564d3",
       "version_major": 2,
       "version_minor": 0
      },
      "text/plain": [
       "ViewInteractiveWidget(height=768, layout=Layout(height='auto', width='100%'), width=1024)"
      ]
     },
     "metadata": {},
     "output_type": "display_data"
    }
   ],
   "source": [
    "slices[2].plot()"
   ]
  },
  {
   "cell_type": "code",
   "execution_count": 39,
   "metadata": {},
   "outputs": [],
   "source": [
    "voxels = pyvista.voxelize(\n",
    "    combined,\n",
    "    check_surface=False,\n",
    "    density=[1, 1, 1],\n",
    ")"
   ]
  },
  {
   "cell_type": "code",
   "execution_count": 30,
   "metadata": {},
   "outputs": [
    {
     "data": {
      "text/plain": [
       "(-66.74468889713287,\n",
       " 43.255311102867125,\n",
       " -132.03929526042938,\n",
       " -46.039295260429384,\n",
       " 99.15148951435089,\n",
       " 167.15148951435089)"
      ]
     },
     "execution_count": 30,
     "metadata": {},
     "output_type": "execute_result"
    }
   ],
   "source": [
    "voxels.bounds"
   ]
  },
  {
   "cell_type": "code",
   "execution_count": 47,
   "metadata": {},
   "outputs": [],
   "source": [
    "import pymeshfix"
   ]
  },
  {
   "cell_type": "code",
   "execution_count": 49,
   "metadata": {},
   "outputs": [
    {
     "name": "stdout",
     "output_type": "stream",
     "text": [
      "93\n",
      "95\n",
      "108\n",
      "160\n",
      "67\n",
      "141\n",
      "84\n"
     ]
    }
   ],
   "source": [
    "epi_mf = pymeshfix.MeshFix(epi)\n",
    "epi_mf.repair(joincomp=False, remove_smallest_components=True)\n",
    "epi_watertight = epi_mf.mesh\n"
   ]
  },
  {
   "cell_type": "code",
   "execution_count": 50,
   "metadata": {},
   "outputs": [
    {
     "name": "stdout",
     "output_type": "stream",
     "text": [
      "93\n",
      "95\n",
      "108\n",
      "160\n",
      "67\n",
      "141\n",
      "84\n"
     ]
    }
   ],
   "source": [
    "endo_mf = pymeshfix.MeshFix(endo)\n",
    "endo_mf.repair(joincomp=False, remove_smallest_components=True)\n",
    "endo_watertight = epi_mf.mesh"
   ]
  },
  {
   "cell_type": "code",
   "execution_count": 51,
   "metadata": {},
   "outputs": [],
   "source": [
    "combined_watertight = endo_watertight + endo_watertight"
   ]
  },
  {
   "cell_type": "code",
   "execution_count": 57,
   "metadata": {},
   "outputs": [
    {
     "name": "stdout",
     "output_type": "stream",
     "text": [
      "93\n",
      "84\n",
      "95\n",
      "108\n",
      "141\n",
      "67\n",
      "93\n",
      "322\n",
      "84\n",
      "95\n",
      "108\n",
      "141\n",
      "67\n"
     ]
    }
   ],
   "source": [
    "combined_mf = pymeshfix.MeshFix(combined)\n",
    "combined_mf.repair(joincomp=True, remove_smallest_components=False)\n"
   ]
  },
  {
   "cell_type": "code",
   "execution_count": 59,
   "metadata": {},
   "outputs": [
    {
     "data": {
      "text/html": [
       "\n",
       "<table>\n",
       "<tr><th>PolyData</th><th>Information</th></tr>\n",
       "<tr><td>N Cells</td><td>25814</td></tr>\n",
       "<tr><td>N Points</td><td>12909</td></tr>\n",
       "<tr><td>X Bounds</td><td>-6.674e+01, 4.346e+01</td></tr>\n",
       "<tr><td>Y Bounds</td><td>-1.242e+02, -4.527e+01</td></tr>\n",
       "<tr><td>Z Bounds</td><td>9.915e+01, 1.675e+02</td></tr>\n",
       "<tr><td>N Arrays</td><td>0</td></tr>\n",
       "</table>\n",
       "\n"
      ],
      "text/plain": [
       "PolyData (0x7fb2f12bfd60)\n",
       "  N Cells:\t25814\n",
       "  N Points:\t12909\n",
       "  X Bounds:\t-6.674e+01, 4.346e+01\n",
       "  Y Bounds:\t-1.242e+02, -4.527e+01\n",
       "  Z Bounds:\t9.915e+01, 1.675e+02\n",
       "  N Arrays:\t0"
      ]
     },
     "execution_count": 59,
     "metadata": {},
     "output_type": "execute_result"
    }
   ],
   "source": [
    "combined_mf.mesh"
   ]
  },
  {
   "cell_type": "code",
   "execution_count": 56,
   "metadata": {},
   "outputs": [
    {
     "data": {
      "text/html": [
       "\n",
       "<table>\n",
       "<tr><th>PolyData</th><th>Information</th></tr>\n",
       "<tr><td>N Cells</td><td>55828</td></tr>\n",
       "<tr><td>N Points</td><td>13959</td></tr>\n",
       "<tr><td>X Bounds</td><td>-6.674e+01, 4.346e+01</td></tr>\n",
       "<tr><td>Y Bounds</td><td>-1.242e+02, -4.527e+01</td></tr>\n",
       "<tr><td>Z Bounds</td><td>9.915e+01, 1.675e+02</td></tr>\n",
       "<tr><td>N Arrays</td><td>0</td></tr>\n",
       "</table>\n",
       "\n"
      ],
      "text/plain": [
       "PolyData (0x7fb2c3eb3d60)\n",
       "  N Cells:\t55828\n",
       "  N Points:\t13959\n",
       "  X Bounds:\t-6.674e+01, 4.346e+01\n",
       "  Y Bounds:\t-1.242e+02, -4.527e+01\n",
       "  Z Bounds:\t9.915e+01, 1.675e+02\n",
       "  N Arrays:\t0"
      ]
     },
     "execution_count": 56,
     "metadata": {},
     "output_type": "execute_result"
    }
   ],
   "source": [
    "combined_watertight"
   ]
  },
  {
   "cell_type": "code",
   "execution_count": 60,
   "metadata": {},
   "outputs": [
    {
     "data": {
      "application/vnd.jupyter.widget-view+json": {
       "model_id": "3b42778e7f5e444fa80e25eb2950e4d4",
       "version_major": 2,
       "version_minor": 0
      },
      "text/plain": [
       "ViewInteractiveWidget(height=768, layout=Layout(height='auto', width='100%'), width=1024)"
      ]
     },
     "metadata": {},
     "output_type": "display_data"
    }
   ],
   "source": [
    "combined_mf.mesh.plot(opacity=0.1)"
   ]
  },
  {
   "cell_type": "code",
   "execution_count": null,
   "metadata": {},
   "outputs": [],
   "source": []
  },
  {
   "cell_type": "code",
   "execution_count": null,
   "metadata": {},
   "outputs": [],
   "source": []
  },
  {
   "cell_type": "code",
   "execution_count": null,
   "metadata": {},
   "outputs": [],
   "source": []
  },
  {
   "cell_type": "code",
   "execution_count": 53,
   "metadata": {},
   "outputs": [
    {
     "data": {
      "application/vnd.jupyter.widget-view+json": {
       "model_id": "308ab89fa0e34e55bd9463ba04f6b06b",
       "version_major": 2,
       "version_minor": 0
      },
      "text/plain": [
       "ViewInteractiveWidget(height=768, layout=Layout(height='auto', width='100%'), width=1024)"
      ]
     },
     "metadata": {},
     "output_type": "display_data"
    }
   ],
   "source": [
    "combined_watertight.plot(opacity=0.1)"
   ]
  },
  {
   "cell_type": "code",
   "execution_count": null,
   "metadata": {},
   "outputs": [],
   "source": []
  },
  {
   "cell_type": "code",
   "execution_count": null,
   "metadata": {},
   "outputs": [],
   "source": []
  },
  {
   "cell_type": "code",
   "execution_count": 62,
   "metadata": {},
   "outputs": [
    {
     "data": {
      "application/vnd.jupyter.widget-view+json": {
       "model_id": "d8b144af971e4895a4fec00d54f2115e",
       "version_major": 2,
       "version_minor": 0
      },
      "text/plain": [
       "ViewInteractiveWidget(height=768, layout=Layout(height='auto', width='100%'), width=1024)"
      ]
     },
     "metadata": {},
     "output_type": "display_data"
    }
   ],
   "source": [
    "slices[10].plot()"
   ]
  },
  {
   "cell_type": "code",
   "execution_count": 44,
   "metadata": {},
   "outputs": [
    {
     "data": {
      "application/vnd.jupyter.widget-view+json": {
       "model_id": "f2c253451e814e9384ffd14ba580361a",
       "version_major": 2,
       "version_minor": 0
      },
      "text/plain": [
       "ViewInteractiveWidget(height=768, layout=Layout(height='auto', width='100%'), width=1024)"
      ]
     },
     "metadata": {},
     "output_type": "display_data"
    }
   ],
   "source": [
    "watertight.plot(opacity=0.2)."
   ]
  },
  {
   "cell_type": "code",
   "execution_count": 61,
   "metadata": {},
   "outputs": [],
   "source": [
    "slices = voxels.slice_along_axis(axis='x', contour=False, n=200)\n",
    "slices = combined_watertight.slice_along_axis(axis='x', n=200)"
   ]
  },
  {
   "cell_type": "code",
   "execution_count": 68,
   "metadata": {},
   "outputs": [
    {
     "data": {
      "text/plain": [
       "<function pyvista.utilities.features.voxelize(mesh, density=None, check_surface=True)>"
      ]
     },
     "execution_count": 68,
     "metadata": {},
     "output_type": "execute_result"
    }
   ],
   "source": [
    "pyvista.voxelize"
   ]
  },
  {
   "cell_type": "code",
   "execution_count": 32,
   "metadata": {},
   "outputs": [
    {
     "data": {
      "text/plain": [
       "<bound method Plotter.show of <pyvista.plotting.plotting.Plotter object at 0x7fb3206d7250>>"
      ]
     },
     "execution_count": 32,
     "metadata": {},
     "output_type": "execute_result"
    }
   ],
   "source": [
    "plotter = pyvista.Plotter()\n",
    "plotter.show"
   ]
  },
  {
   "cell_type": "code",
   "execution_count": 37,
   "metadata": {},
   "outputs": [
    {
     "data": {
      "application/vnd.jupyter.widget-view+json": {
       "model_id": "f59be21dad2c4a0e9498a7b1a780277e",
       "version_major": 2,
       "version_minor": 0
      },
      "text/plain": [
       "ViewInteractiveWidget(height=768, layout=Layout(height='auto', width='100%'), width=1024)"
      ]
     },
     "metadata": {},
     "output_type": "display_data"
    }
   ],
   "source": [
    "slices[100].plot()"
   ]
  },
  {
   "cell_type": "code",
   "execution_count": 79,
   "metadata": {},
   "outputs": [
    {
     "data": {
      "application/vnd.jupyter.widget-view+json": {
       "model_id": "e4bbe5590b3b47f18616ea3c2d4e4f20",
       "version_major": 2,
       "version_minor": 0
      },
      "text/plain": [
       "ViewInteractiveWidget(height=768, layout=Layout(height='auto', width='100%'), width=1024)"
      ]
     },
     "metadata": {},
     "output_type": "display_data"
    }
   ],
   "source": [
    "slices[2].plot()"
   ]
  },
  {
   "cell_type": "code",
   "execution_count": null,
   "metadata": {},
   "outputs": [],
   "source": []
  },
  {
   "cell_type": "code",
   "execution_count": null,
   "metadata": {},
   "outputs": [],
   "source": []
  },
  {
   "cell_type": "code",
   "execution_count": 57,
   "metadata": {},
   "outputs": [
    {
     "data": {
      "application/vnd.jupyter.widget-view+json": {
       "model_id": "c07851160687421daaa3f04f07a680ca",
       "version_major": 2,
       "version_minor": 0
      },
      "text/plain": [
       "ViewInteractiveWidget(height=768, layout=Layout(height='auto', width='100%'), width=1024)"
      ]
     },
     "metadata": {},
     "output_type": "display_data"
    }
   ],
   "source": [
    "slices[10].plot()"
   ]
  },
  {
   "cell_type": "code",
   "execution_count": 9,
   "metadata": {},
   "outputs": [
    {
     "data": {
      "application/vnd.jupyter.widget-view+json": {
       "model_id": "2673852b21da4990a67e0ecba90161c9",
       "version_major": 2,
       "version_minor": 0
      },
      "text/plain": [
       "ViewInteractiveWidget(height=768, layout=Layout(height='auto', width='100%'), width=1024)"
      ]
     },
     "metadata": {},
     "output_type": "display_data"
    },
    {
     "data": {
      "application/vnd.jupyter.widget-view+json": {
       "model_id": "a1f2c268791744b8919795c77cd07c33",
       "version_major": 2,
       "version_minor": 0
      },
      "text/plain": [
       "ViewInteractiveWidget(height=768, layout=Layout(height='auto', width='100%'), width=1024)"
      ]
     },
     "metadata": {},
     "output_type": "display_data"
    },
    {
     "data": {
      "application/vnd.jupyter.widget-view+json": {
       "model_id": "3414a38c791f4480ac3861e40ae8ce94",
       "version_major": 2,
       "version_minor": 0
      },
      "text/plain": [
       "ViewInteractiveWidget(height=768, layout=Layout(height='auto', width='100%'), width=1024)"
      ]
     },
     "metadata": {},
     "output_type": "display_data"
    },
    {
     "data": {
      "application/vnd.jupyter.widget-view+json": {
       "model_id": "aa14abc0255d43c8a687b6ce7b33b933",
       "version_major": 2,
       "version_minor": 0
      },
      "text/plain": [
       "ViewInteractiveWidget(height=768, layout=Layout(height='auto', width='100%'), width=1024)"
      ]
     },
     "metadata": {},
     "output_type": "display_data"
    },
    {
     "data": {
      "application/vnd.jupyter.widget-view+json": {
       "model_id": "b85533e4813c4c5286b5272152bfee35",
       "version_major": 2,
       "version_minor": 0
      },
      "text/plain": [
       "ViewInteractiveWidget(height=768, layout=Layout(height='auto', width='100%'), width=1024)"
      ]
     },
     "metadata": {},
     "output_type": "display_data"
    },
    {
     "data": {
      "application/vnd.jupyter.widget-view+json": {
       "model_id": "ec7b29cbf9314d018a7dc8cf88834f28",
       "version_major": 2,
       "version_minor": 0
      },
      "text/plain": [
       "ViewInteractiveWidget(height=768, layout=Layout(height='auto', width='100%'), width=1024)"
      ]
     },
     "metadata": {},
     "output_type": "display_data"
    },
    {
     "data": {
      "application/vnd.jupyter.widget-view+json": {
       "model_id": "0f7c27ecd14e41379e90303855299046",
       "version_major": 2,
       "version_minor": 0
      },
      "text/plain": [
       "ViewInteractiveWidget(height=768, layout=Layout(height='auto', width='100%'), width=1024)"
      ]
     },
     "metadata": {},
     "output_type": "display_data"
    },
    {
     "data": {
      "application/vnd.jupyter.widget-view+json": {
       "model_id": "1407183ef5a34d04babeddad42cf4b62",
       "version_major": 2,
       "version_minor": 0
      },
      "text/plain": [
       "ViewInteractiveWidget(height=768, layout=Layout(height='auto', width='100%'), width=1024)"
      ]
     },
     "metadata": {},
     "output_type": "display_data"
    },
    {
     "data": {
      "application/vnd.jupyter.widget-view+json": {
       "model_id": "fd3f6a9e4290496b8a5a47c4a022b7d3",
       "version_major": 2,
       "version_minor": 0
      },
      "text/plain": [
       "ViewInteractiveWidget(height=768, layout=Layout(height='auto', width='100%'), width=1024)"
      ]
     },
     "metadata": {},
     "output_type": "display_data"
    },
    {
     "data": {
      "application/vnd.jupyter.widget-view+json": {
       "model_id": "f0b183828fae424a84b4486b4afd1d2f",
       "version_major": 2,
       "version_minor": 0
      },
      "text/plain": [
       "ViewInteractiveWidget(height=768, layout=Layout(height='auto', width='100%'), width=1024)"
      ]
     },
     "metadata": {},
     "output_type": "display_data"
    },
    {
     "data": {
      "application/vnd.jupyter.widget-view+json": {
       "model_id": "7504582669624d89ba1ddc4fdd1b8950",
       "version_major": 2,
       "version_minor": 0
      },
      "text/plain": [
       "ViewInteractiveWidget(height=768, layout=Layout(height='auto', width='100%'), width=1024)"
      ]
     },
     "metadata": {},
     "output_type": "display_data"
    },
    {
     "data": {
      "application/vnd.jupyter.widget-view+json": {
       "model_id": "ff4c1d8495bc40eb8d232d10fb02b63c",
       "version_major": 2,
       "version_minor": 0
      },
      "text/plain": [
       "ViewInteractiveWidget(height=768, layout=Layout(height='auto', width='100%'), width=1024)"
      ]
     },
     "metadata": {},
     "output_type": "display_data"
    },
    {
     "data": {
      "application/vnd.jupyter.widget-view+json": {
       "model_id": "8b245f13bb4d4a1fa5014bea6b79e92c",
       "version_major": 2,
       "version_minor": 0
      },
      "text/plain": [
       "ViewInteractiveWidget(height=768, layout=Layout(height='auto', width='100%'), width=1024)"
      ]
     },
     "metadata": {},
     "output_type": "display_data"
    },
    {
     "data": {
      "application/vnd.jupyter.widget-view+json": {
       "model_id": "756846a40db34270a0aad05ee8ccf181",
       "version_major": 2,
       "version_minor": 0
      },
      "text/plain": [
       "ViewInteractiveWidget(height=768, layout=Layout(height='auto', width='100%'), width=1024)"
      ]
     },
     "metadata": {},
     "output_type": "display_data"
    },
    {
     "data": {
      "application/vnd.jupyter.widget-view+json": {
       "model_id": "872766a914c44429a3e9b67098594daa",
       "version_major": 2,
       "version_minor": 0
      },
      "text/plain": [
       "ViewInteractiveWidget(height=768, layout=Layout(height='auto', width='100%'), width=1024)"
      ]
     },
     "metadata": {},
     "output_type": "display_data"
    },
    {
     "data": {
      "application/vnd.jupyter.widget-view+json": {
       "model_id": "19c47f73bd9e47bd8ae74161cca7e13f",
       "version_major": 2,
       "version_minor": 0
      },
      "text/plain": [
       "ViewInteractiveWidget(height=768, layout=Layout(height='auto', width='100%'), width=1024)"
      ]
     },
     "metadata": {},
     "output_type": "display_data"
    },
    {
     "data": {
      "application/vnd.jupyter.widget-view+json": {
       "model_id": "bcd2dd1dd7954d738dd075de2da3747b",
       "version_major": 2,
       "version_minor": 0
      },
      "text/plain": [
       "ViewInteractiveWidget(height=768, layout=Layout(height='auto', width='100%'), width=1024)"
      ]
     },
     "metadata": {},
     "output_type": "display_data"
    },
    {
     "data": {
      "application/vnd.jupyter.widget-view+json": {
       "model_id": "67e9f564597340299eefb5fa3c632678",
       "version_major": 2,
       "version_minor": 0
      },
      "text/plain": [
       "ViewInteractiveWidget(height=768, layout=Layout(height='auto', width='100%'), width=1024)"
      ]
     },
     "metadata": {},
     "output_type": "display_data"
    },
    {
     "data": {
      "application/vnd.jupyter.widget-view+json": {
       "model_id": "e74acab15b1a4eb3873fc414a5f57f8b",
       "version_major": 2,
       "version_minor": 0
      },
      "text/plain": [
       "ViewInteractiveWidget(height=768, layout=Layout(height='auto', width='100%'), width=1024)"
      ]
     },
     "metadata": {},
     "output_type": "display_data"
    },
    {
     "data": {
      "application/vnd.jupyter.widget-view+json": {
       "model_id": "887fd7f955ad43daa570fb22c35884f3",
       "version_major": 2,
       "version_minor": 0
      },
      "text/plain": [
       "ViewInteractiveWidget(height=768, layout=Layout(height='auto', width='100%'), width=1024)"
      ]
     },
     "metadata": {},
     "output_type": "display_data"
    },
    {
     "data": {
      "application/vnd.jupyter.widget-view+json": {
       "model_id": "cbd47381d89942e5933030315f841bc3",
       "version_major": 2,
       "version_minor": 0
      },
      "text/plain": [
       "ViewInteractiveWidget(height=768, layout=Layout(height='auto', width='100%'), width=1024)"
      ]
     },
     "metadata": {},
     "output_type": "display_data"
    },
    {
     "data": {
      "application/vnd.jupyter.widget-view+json": {
       "model_id": "e5d52fe7335446768388c6b6db97b762",
       "version_major": 2,
       "version_minor": 0
      },
      "text/plain": [
       "ViewInteractiveWidget(height=768, layout=Layout(height='auto', width='100%'), width=1024)"
      ]
     },
     "metadata": {},
     "output_type": "display_data"
    },
    {
     "data": {
      "application/vnd.jupyter.widget-view+json": {
       "model_id": "cd29a6c31dfc4aeaa7bc52ce81049052",
       "version_major": 2,
       "version_minor": 0
      },
      "text/plain": [
       "ViewInteractiveWidget(height=768, layout=Layout(height='auto', width='100%'), width=1024)"
      ]
     },
     "metadata": {},
     "output_type": "display_data"
    },
    {
     "data": {
      "application/vnd.jupyter.widget-view+json": {
       "model_id": "39feb3f7f1ab4056914086ad8052373c",
       "version_major": 2,
       "version_minor": 0
      },
      "text/plain": [
       "ViewInteractiveWidget(height=768, layout=Layout(height='auto', width='100%'), width=1024)"
      ]
     },
     "metadata": {},
     "output_type": "display_data"
    },
    {
     "data": {
      "application/vnd.jupyter.widget-view+json": {
       "model_id": "1919cfb7a89c4171abb1e83d8b0e5afc",
       "version_major": 2,
       "version_minor": 0
      },
      "text/plain": [
       "ViewInteractiveWidget(height=768, layout=Layout(height='auto', width='100%'), width=1024)"
      ]
     },
     "metadata": {},
     "output_type": "display_data"
    },
    {
     "data": {
      "application/vnd.jupyter.widget-view+json": {
       "model_id": "20b9fb8ef2b545518615df918f558161",
       "version_major": 2,
       "version_minor": 0
      },
      "text/plain": [
       "ViewInteractiveWidget(height=768, layout=Layout(height='auto', width='100%'), width=1024)"
      ]
     },
     "metadata": {},
     "output_type": "display_data"
    },
    {
     "data": {
      "application/vnd.jupyter.widget-view+json": {
       "model_id": "565ee21edd2f40bf9e556be3312d33b3",
       "version_major": 2,
       "version_minor": 0
      },
      "text/plain": [
       "ViewInteractiveWidget(height=768, layout=Layout(height='auto', width='100%'), width=1024)"
      ]
     },
     "metadata": {},
     "output_type": "display_data"
    },
    {
     "data": {
      "application/vnd.jupyter.widget-view+json": {
       "model_id": "45d595752e634069abc313c41788a39f",
       "version_major": 2,
       "version_minor": 0
      },
      "text/plain": [
       "ViewInteractiveWidget(height=768, layout=Layout(height='auto', width='100%'), width=1024)"
      ]
     },
     "metadata": {},
     "output_type": "display_data"
    },
    {
     "data": {
      "application/vnd.jupyter.widget-view+json": {
       "model_id": "2de060bfffa147f6bd7baf7cb66386ef",
       "version_major": 2,
       "version_minor": 0
      },
      "text/plain": [
       "ViewInteractiveWidget(height=768, layout=Layout(height='auto', width='100%'), width=1024)"
      ]
     },
     "metadata": {},
     "output_type": "display_data"
    },
    {
     "data": {
      "application/vnd.jupyter.widget-view+json": {
       "model_id": "41682a5e988948f5bed6e663a7076016",
       "version_major": 2,
       "version_minor": 0
      },
      "text/plain": [
       "ViewInteractiveWidget(height=768, layout=Layout(height='auto', width='100%'), width=1024)"
      ]
     },
     "metadata": {},
     "output_type": "display_data"
    },
    {
     "data": {
      "application/vnd.jupyter.widget-view+json": {
       "model_id": "b61e390ff08542178bbff3cef06abf11",
       "version_major": 2,
       "version_minor": 0
      },
      "text/plain": [
       "ViewInteractiveWidget(height=768, layout=Layout(height='auto', width='100%'), width=1024)"
      ]
     },
     "metadata": {},
     "output_type": "display_data"
    },
    {
     "data": {
      "application/vnd.jupyter.widget-view+json": {
       "model_id": "c32c045607d049139b42e0b0f4d23a6c",
       "version_major": 2,
       "version_minor": 0
      },
      "text/plain": [
       "ViewInteractiveWidget(height=768, layout=Layout(height='auto', width='100%'), width=1024)"
      ]
     },
     "metadata": {},
     "output_type": "display_data"
    },
    {
     "data": {
      "application/vnd.jupyter.widget-view+json": {
       "model_id": "03b484673f9d4b608116f184d79f56fa",
       "version_major": 2,
       "version_minor": 0
      },
      "text/plain": [
       "ViewInteractiveWidget(height=768, layout=Layout(height='auto', width='100%'), width=1024)"
      ]
     },
     "metadata": {},
     "output_type": "display_data"
    },
    {
     "data": {
      "application/vnd.jupyter.widget-view+json": {
       "model_id": "1ffc5db1d7294a5a831ea9f08e9210ec",
       "version_major": 2,
       "version_minor": 0
      },
      "text/plain": [
       "ViewInteractiveWidget(height=768, layout=Layout(height='auto', width='100%'), width=1024)"
      ]
     },
     "metadata": {},
     "output_type": "display_data"
    },
    {
     "data": {
      "application/vnd.jupyter.widget-view+json": {
       "model_id": "f6e3054338ac43dfaf5e225d1b8d65f0",
       "version_major": 2,
       "version_minor": 0
      },
      "text/plain": [
       "ViewInteractiveWidget(height=768, layout=Layout(height='auto', width='100%'), width=1024)"
      ]
     },
     "metadata": {},
     "output_type": "display_data"
    },
    {
     "data": {
      "application/vnd.jupyter.widget-view+json": {
       "model_id": "88260ebe30094c9d8d700b71b6d4413d",
       "version_major": 2,
       "version_minor": 0
      },
      "text/plain": [
       "ViewInteractiveWidget(height=768, layout=Layout(height='auto', width='100%'), width=1024)"
      ]
     },
     "metadata": {},
     "output_type": "display_data"
    },
    {
     "data": {
      "application/vnd.jupyter.widget-view+json": {
       "model_id": "533bd52ee2da46579c9cb5f4dd508be2",
       "version_major": 2,
       "version_minor": 0
      },
      "text/plain": [
       "ViewInteractiveWidget(height=768, layout=Layout(height='auto', width='100%'), width=1024)"
      ]
     },
     "metadata": {},
     "output_type": "display_data"
    },
    {
     "data": {
      "application/vnd.jupyter.widget-view+json": {
       "model_id": "ffaec6ae857941cf9ad3333b1d27f355",
       "version_major": 2,
       "version_minor": 0
      },
      "text/plain": [
       "ViewInteractiveWidget(height=768, layout=Layout(height='auto', width='100%'), width=1024)"
      ]
     },
     "metadata": {},
     "output_type": "display_data"
    },
    {
     "data": {
      "application/vnd.jupyter.widget-view+json": {
       "model_id": "088cb2e169fd4655b4ce7ba5e26c29f4",
       "version_major": 2,
       "version_minor": 0
      },
      "text/plain": [
       "ViewInteractiveWidget(height=768, layout=Layout(height='auto', width='100%'), width=1024)"
      ]
     },
     "metadata": {},
     "output_type": "display_data"
    },
    {
     "data": {
      "application/vnd.jupyter.widget-view+json": {
       "model_id": "0b17e2d253d6463da5170812a3e08755",
       "version_major": 2,
       "version_minor": 0
      },
      "text/plain": [
       "ViewInteractiveWidget(height=768, layout=Layout(height='auto', width='100%'), width=1024)"
      ]
     },
     "metadata": {},
     "output_type": "display_data"
    },
    {
     "data": {
      "application/vnd.jupyter.widget-view+json": {
       "model_id": "027ec40fb0b948b083b3495cb552daaf",
       "version_major": 2,
       "version_minor": 0
      },
      "text/plain": [
       "ViewInteractiveWidget(height=768, layout=Layout(height='auto', width='100%'), width=1024)"
      ]
     },
     "metadata": {},
     "output_type": "display_data"
    },
    {
     "data": {
      "application/vnd.jupyter.widget-view+json": {
       "model_id": "e841d3018d194a2a93ed879980acb29a",
       "version_major": 2,
       "version_minor": 0
      },
      "text/plain": [
       "ViewInteractiveWidget(height=768, layout=Layout(height='auto', width='100%'), width=1024)"
      ]
     },
     "metadata": {},
     "output_type": "display_data"
    },
    {
     "data": {
      "application/vnd.jupyter.widget-view+json": {
       "model_id": "cad161c5a8b44b37af2ab75315fd1c06",
       "version_major": 2,
       "version_minor": 0
      },
      "text/plain": [
       "ViewInteractiveWidget(height=768, layout=Layout(height='auto', width='100%'), width=1024)"
      ]
     },
     "metadata": {},
     "output_type": "display_data"
    },
    {
     "data": {
      "application/vnd.jupyter.widget-view+json": {
       "model_id": "fbe6996138784d9794fda4898f23a42e",
       "version_major": 2,
       "version_minor": 0
      },
      "text/plain": [
       "ViewInteractiveWidget(height=768, layout=Layout(height='auto', width='100%'), width=1024)"
      ]
     },
     "metadata": {},
     "output_type": "display_data"
    },
    {
     "data": {
      "application/vnd.jupyter.widget-view+json": {
       "model_id": "16ca5f2df1944a19958a4c528be92e83",
       "version_major": 2,
       "version_minor": 0
      },
      "text/plain": [
       "ViewInteractiveWidget(height=768, layout=Layout(height='auto', width='100%'), width=1024)"
      ]
     },
     "metadata": {},
     "output_type": "display_data"
    },
    {
     "data": {
      "application/vnd.jupyter.widget-view+json": {
       "model_id": "0cef1fbbf7824de999953c6ba5e7fce8",
       "version_major": 2,
       "version_minor": 0
      },
      "text/plain": [
       "ViewInteractiveWidget(height=768, layout=Layout(height='auto', width='100%'), width=1024)"
      ]
     },
     "metadata": {},
     "output_type": "display_data"
    },
    {
     "data": {
      "application/vnd.jupyter.widget-view+json": {
       "model_id": "74e0fc5e0c234c9caa6327c169737f50",
       "version_major": 2,
       "version_minor": 0
      },
      "text/plain": [
       "ViewInteractiveWidget(height=768, layout=Layout(height='auto', width='100%'), width=1024)"
      ]
     },
     "metadata": {},
     "output_type": "display_data"
    },
    {
     "data": {
      "application/vnd.jupyter.widget-view+json": {
       "model_id": "86ef6513e6ec4c5c8123d9aa5d1ba8de",
       "version_major": 2,
       "version_minor": 0
      },
      "text/plain": [
       "ViewInteractiveWidget(height=768, layout=Layout(height='auto', width='100%'), width=1024)"
      ]
     },
     "metadata": {},
     "output_type": "display_data"
    },
    {
     "data": {
      "application/vnd.jupyter.widget-view+json": {
       "model_id": "8eb7e95673e54f3d892a315dfd4e94d1",
       "version_major": 2,
       "version_minor": 0
      },
      "text/plain": [
       "ViewInteractiveWidget(height=768, layout=Layout(height='auto', width='100%'), width=1024)"
      ]
     },
     "metadata": {},
     "output_type": "display_data"
    },
    {
     "data": {
      "application/vnd.jupyter.widget-view+json": {
       "model_id": "5ae3700c38264270b1deae3679866549",
       "version_major": 2,
       "version_minor": 0
      },
      "text/plain": [
       "ViewInteractiveWidget(height=768, layout=Layout(height='auto', width='100%'), width=1024)"
      ]
     },
     "metadata": {},
     "output_type": "display_data"
    },
    {
     "data": {
      "application/vnd.jupyter.widget-view+json": {
       "model_id": "96a694efceb64f08afb463d3804495b6",
       "version_major": 2,
       "version_minor": 0
      },
      "text/plain": [
       "ViewInteractiveWidget(height=768, layout=Layout(height='auto', width='100%'), width=1024)"
      ]
     },
     "metadata": {},
     "output_type": "display_data"
    },
    {
     "data": {
      "application/vnd.jupyter.widget-view+json": {
       "model_id": "d7e2014aa38449c39bfb4ae26f534ff9",
       "version_major": 2,
       "version_minor": 0
      },
      "text/plain": [
       "ViewInteractiveWidget(height=768, layout=Layout(height='auto', width='100%'), width=1024)"
      ]
     },
     "metadata": {},
     "output_type": "display_data"
    },
    {
     "data": {
      "application/vnd.jupyter.widget-view+json": {
       "model_id": "b4d60ef19e97494fbf0564161d6273a4",
       "version_major": 2,
       "version_minor": 0
      },
      "text/plain": [
       "ViewInteractiveWidget(height=768, layout=Layout(height='auto', width='100%'), width=1024)"
      ]
     },
     "metadata": {},
     "output_type": "display_data"
    },
    {
     "data": {
      "application/vnd.jupyter.widget-view+json": {
       "model_id": "45c5ec3fd26b4c738cad728d2651c9ad",
       "version_major": 2,
       "version_minor": 0
      },
      "text/plain": [
       "ViewInteractiveWidget(height=768, layout=Layout(height='auto', width='100%'), width=1024)"
      ]
     },
     "metadata": {},
     "output_type": "display_data"
    },
    {
     "data": {
      "application/vnd.jupyter.widget-view+json": {
       "model_id": "b18feba05b8e4d399a635e729acd181a",
       "version_major": 2,
       "version_minor": 0
      },
      "text/plain": [
       "ViewInteractiveWidget(height=768, layout=Layout(height='auto', width='100%'), width=1024)"
      ]
     },
     "metadata": {},
     "output_type": "display_data"
    },
    {
     "data": {
      "application/vnd.jupyter.widget-view+json": {
       "model_id": "310477d864824afb9aa883d8f3205f94",
       "version_major": 2,
       "version_minor": 0
      },
      "text/plain": [
       "ViewInteractiveWidget(height=768, layout=Layout(height='auto', width='100%'), width=1024)"
      ]
     },
     "metadata": {},
     "output_type": "display_data"
    },
    {
     "data": {
      "application/vnd.jupyter.widget-view+json": {
       "model_id": "643350ff26e3425baad313a3aa5ae415",
       "version_major": 2,
       "version_minor": 0
      },
      "text/plain": [
       "ViewInteractiveWidget(height=768, layout=Layout(height='auto', width='100%'), width=1024)"
      ]
     },
     "metadata": {},
     "output_type": "display_data"
    },
    {
     "data": {
      "application/vnd.jupyter.widget-view+json": {
       "model_id": "9ab6250a92184161a796a560e838510a",
       "version_major": 2,
       "version_minor": 0
      },
      "text/plain": [
       "ViewInteractiveWidget(height=768, layout=Layout(height='auto', width='100%'), width=1024)"
      ]
     },
     "metadata": {},
     "output_type": "display_data"
    },
    {
     "data": {
      "application/vnd.jupyter.widget-view+json": {
       "model_id": "ab9741d3ed1b48a4972ee3fd2f49b88e",
       "version_major": 2,
       "version_minor": 0
      },
      "text/plain": [
       "ViewInteractiveWidget(height=768, layout=Layout(height='auto', width='100%'), width=1024)"
      ]
     },
     "metadata": {},
     "output_type": "display_data"
    },
    {
     "data": {
      "application/vnd.jupyter.widget-view+json": {
       "model_id": "8b06e7d5b8bd491ea3e5fc180d0d8453",
       "version_major": 2,
       "version_minor": 0
      },
      "text/plain": [
       "ViewInteractiveWidget(height=768, layout=Layout(height='auto', width='100%'), width=1024)"
      ]
     },
     "metadata": {},
     "output_type": "display_data"
    }
   ],
   "source": [
    "for s in slices:\n",
    "    try:\n",
    "        s.plot()\n",
    "    except:\n",
    "        pass"
   ]
  },
  {
   "cell_type": "code",
   "execution_count": 10,
   "metadata": {},
   "outputs": [
    {
     "data": {
      "application/vnd.jupyter.widget-view+json": {
       "model_id": "c0744bfc20fb4ded997af7832dcda0ae",
       "version_major": 2,
       "version_minor": 0
      },
      "text/plain": [
       "ViewInteractiveWidget(height=768, layout=Layout(height='auto', width='100%'), width=1024)"
      ]
     },
     "metadata": {},
     "output_type": "display_data"
    }
   ],
   "source": [
    "combined.plot(scalars='Colour')\n"
   ]
  },
  {
   "cell_type": "code",
   "execution_count": null,
   "metadata": {},
   "outputs": [],
   "source": [
    "slices.plot()"
   ]
  },
  {
   "cell_type": "code",
   "execution_count": 12,
   "metadata": {},
   "outputs": [],
   "source": [
    "combined.save('mesh.vtk')"
   ]
  },
  {
   "cell_type": "code",
   "execution_count": null,
   "metadata": {},
   "outputs": [],
   "source": []
  }
 ],
 "metadata": {
  "kernelspec": {
   "display_name": "Python 3.9.7 ('openep')",
   "language": "python",
   "name": "python3"
  },
  "language_info": {
   "codemirror_mode": {
    "name": "ipython",
    "version": 3
   },
   "file_extension": ".py",
   "mimetype": "text/x-python",
   "name": "python",
   "nbconvert_exporter": "python",
   "pygments_lexer": "ipython3",
   "version": "3.9.7"
  },
  "orig_nbformat": 4,
  "vscode": {
   "interpreter": {
    "hash": "1498aee3a2eb102c855ec1dded6b9c2b4c71150cc8d698a3bd601de65c8dfbf1"
   }
  }
 },
 "nbformat": 4,
 "nbformat_minor": 2
}
