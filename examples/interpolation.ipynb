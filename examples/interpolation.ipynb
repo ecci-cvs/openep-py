{
 "cells": [
  {
   "cell_type": "code",
   "execution_count": 3,
   "id": "documentary-belarus",
   "metadata": {},
   "outputs": [],
   "source": [
    "import sys\n",
    "sys.path.append('/home/jra21/work/source/repos/opep')"
   ]
  },
  {
   "cell_type": "code",
   "execution_count": 4,
   "id": "knowing-desperate",
   "metadata": {},
   "outputs": [
    {
     "ename": "ModuleNotFoundError",
     "evalue": "No module named 'sklearn'",
     "output_type": "error",
     "traceback": [
      "\u001b[0;31m---------------------------------------------------------------------------\u001b[0m",
      "\u001b[0;31mModuleNotFoundError\u001b[0m                       Traceback (most recent call last)",
      "\u001b[0;32m<ipython-input-4-9b416f2a96be>\u001b[0m in \u001b[0;36m<module>\u001b[0;34m\u001b[0m\n\u001b[1;32m      7\u001b[0m \u001b[0;32mfrom\u001b[0m \u001b[0mscipy\u001b[0m\u001b[0;34m.\u001b[0m\u001b[0minterpolate\u001b[0m \u001b[0;32mimport\u001b[0m \u001b[0mLinearNDInterpolator\u001b[0m \u001b[0;32mas\u001b[0m \u001b[0mlinterp\u001b[0m\u001b[0;34m\u001b[0m\u001b[0;34m\u001b[0m\u001b[0m\n\u001b[1;32m      8\u001b[0m \u001b[0;32mfrom\u001b[0m \u001b[0mscipy\u001b[0m\u001b[0;34m.\u001b[0m\u001b[0minterpolate\u001b[0m \u001b[0;32mimport\u001b[0m \u001b[0mNearestNDInterpolator\u001b[0m \u001b[0;32mas\u001b[0m \u001b[0mnearest\u001b[0m\u001b[0;34m\u001b[0m\u001b[0;34m\u001b[0m\u001b[0m\n\u001b[0;32m----> 9\u001b[0;31m \u001b[0;32mfrom\u001b[0m \u001b[0msklearn\u001b[0m\u001b[0;34m.\u001b[0m\u001b[0mneighbors\u001b[0m \u001b[0;32mimport\u001b[0m \u001b[0mNearestNeighbors\u001b[0m\u001b[0;34m\u001b[0m\u001b[0;34m\u001b[0m\u001b[0m\n\u001b[0m\u001b[1;32m     10\u001b[0m \u001b[0;32mfrom\u001b[0m \u001b[0mmatplotlib\u001b[0m\u001b[0;34m.\u001b[0m\u001b[0mcm\u001b[0m \u001b[0;32mimport\u001b[0m \u001b[0mjet\u001b[0m\u001b[0;34m,\u001b[0m \u001b[0mrainbow\u001b[0m\u001b[0;34m,\u001b[0m \u001b[0mjet_r\u001b[0m\u001b[0;34m,\u001b[0m \u001b[0mseismic\u001b[0m\u001b[0;34m\u001b[0m\u001b[0;34m\u001b[0m\u001b[0m\n\u001b[1;32m     11\u001b[0m \u001b[0;32mimport\u001b[0m \u001b[0mmatplotlib\u001b[0m\u001b[0;34m.\u001b[0m\u001b[0mpyplot\u001b[0m \u001b[0;32mas\u001b[0m \u001b[0mplt\u001b[0m\u001b[0;34m\u001b[0m\u001b[0;34m\u001b[0m\u001b[0m\n",
      "\u001b[0;31mModuleNotFoundError\u001b[0m: No module named 'sklearn'"
     ]
    }
   ],
   "source": [
    "from openep import io as openep_io\n",
    "from openep import case as openep_case\n",
    "from openep import mesh_routines as openep_mesh\n",
    "from openep import case_routines as case_routines\n",
    "\n",
    "import numpy as np\n",
    "from scipy.interpolate import LinearNDInterpolator as linterp\n",
    "from scipy.interpolate import NearestNDInterpolator as nearest\n",
    "from sklearn.neighbors import NearestNeighbors\n",
    "from matplotlib.cm import jet, rainbow, jet_r, seismic\n",
    "import matplotlib.pyplot as plt"
   ]
  },
  {
   "cell_type": "code",
   "execution_count": 2,
   "id": "daily-exclusion",
   "metadata": {},
   "outputs": [
    {
     "ename": "NameError",
     "evalue": "name 'openep_io' is not defined",
     "output_type": "error",
     "traceback": [
      "\u001b[0;31m---------------------------------------------------------------------------\u001b[0m",
      "\u001b[0;31mNameError\u001b[0m                                 Traceback (most recent call last)",
      "\u001b[0;32m<ipython-input-2-cbb9ee3bae84>\u001b[0m in \u001b[0;36m<module>\u001b[0;34m\u001b[0m\n\u001b[1;32m      5\u001b[0m \u001b[0;34m\u001b[0m\u001b[0m\n\u001b[1;32m      6\u001b[0m \u001b[0;34m\u001b[0m\u001b[0m\n\u001b[0;32m----> 7\u001b[0;31m \u001b[0mep_case\u001b[0m \u001b[0;34m=\u001b[0m \u001b[0mopenep_io\u001b[0m\u001b[0;34m.\u001b[0m\u001b[0mload_case\u001b[0m\u001b[0;34m(\u001b[0m\u001b[0mfilename\u001b[0m\u001b[0;34m)\u001b[0m\u001b[0;34m\u001b[0m\u001b[0;34m\u001b[0m\u001b[0m\n\u001b[0m\u001b[1;32m      8\u001b[0m \u001b[0mep_case_mesh\u001b[0m \u001b[0;34m=\u001b[0m \u001b[0mep_case\u001b[0m\u001b[0;34m.\u001b[0m\u001b[0mcreate_mesh\u001b[0m\u001b[0;34m(\u001b[0m\u001b[0;34m)\u001b[0m\u001b[0;34m\u001b[0m\u001b[0;34m\u001b[0m\u001b[0m\n\u001b[1;32m      9\u001b[0m \u001b[0mpts\u001b[0m \u001b[0;34m=\u001b[0m \u001b[0mep_case\u001b[0m\u001b[0;34m.\u001b[0m\u001b[0mnodes\u001b[0m\u001b[0;34m\u001b[0m\u001b[0;34m\u001b[0m\u001b[0m\n",
      "\u001b[0;31mNameError\u001b[0m: name 'openep_io' is not defined"
     ]
    }
   ],
   "source": [
    "# # Usecase 039 - Creating a voltage map from electroanatomic mapping data\n",
    "\n",
    "filename = '/home/jra21/work/source/repos/opep/examples/data/new_dataset_1.mat'\n",
    "distanceThresh = 10\n",
    "\n",
    "\n",
    "ep_case = openep_io.load_case(filename)\n",
    "ep_case_mesh = ep_case.create_mesh()\n",
    "pts = ep_case.nodes\n",
    "\n",
    "print(ep_case)"
   ]
  },
  {
   "cell_type": "code",
   "execution_count": null,
   "id": "previous-market",
   "metadata": {},
   "outputs": [],
   "source": [
    "# # Load EGMx and EGM voltage values\n",
    "coords = ep_case.electric['egmX'].T\n",
    "data = ep_case.['egm'].T\n",
    "\n",
    "\n",
    "iVp = case_routines.getMappingPointsWithinWoI(ep_case)\n",
    "# macthing the shape of ivp with data\n",
    "iVp_data = np.repeat(iVp, repeats=data.shape[1], axis=1)\n",
    "# macthing the shape of ivp with coords\n",
    "iVp_coords = np.repeat(iVp, repeats=coords.shape[1],axis=1)\n",
    "\n",
    "data[~iVp_data] = np.nan\n",
    "coords[~iVp_coords] = np.nan\n",
    "\n",
    "\n",
    "# For each mapping point, n, find the voltage amplitude\n",
    "max_volt = np.amax(a=data,axis=1).reshape(len(data),1)\n",
    "min_volt = np.amin(a=data,axis=1).reshape(len(data),1)\n",
    "\n",
    "\n",
    "amplitude_volt = np.subtract(max_volt,min_volt)\n"
   ]
  },
  {
   "cell_type": "code",
   "execution_count": null,
   "id": "persistent-ghana",
   "metadata": {},
   "outputs": [],
   "source": [
    "# Remove any data with Nans\n",
    "for indx in range(amplitude_volt.shape[1]):\n",
    "    tempData = amplitude_volt[:,indx]\n",
    "    tempCoords = coords\n",
    "    iNaN = np.isnan(tempData)\n",
    "    tempData=tempData[~iNaN]\n",
    "    tempCoords=tempCoords[~iNaN]\n",
    "\n",
    "\n",
    "\n",
    "    interp = case_routines.OpenEPDataInterpolator(method='rbf',distanceThreshold=distanceThresh,rbfConstant=1)\n",
    "    VertexVoltageData = interp.interpolate(x0=tempCoords,d0=tempData,x1=pts)\n",
    "    \n",
    "    \n",
    "#     Rbf - Scipy \n",
    "    d1_py = case_routines.rbf_scipy(x0=tempCoords,d0=tempData,x1=pts,rbfConstant=1)\n",
    "    #print(c)\n",
    "\n",
    "ep_case.fields['d1'] = VertexVoltageData\n"
   ]
  },
  {
   "cell_type": "code",
   "execution_count": null,
   "id": "thorough-anatomy",
   "metadata": {},
   "outputs": [],
   "source": [
    "    \n",
    "# DRAW Map\n",
    "openep_mesh.compute_field(mesh=ep_case_mesh,fieldname='d1',minval=0,maxval=1,color_map=jet_r)\n",
    "ep_case_mesh.show()"
   ]
  },
  {
   "cell_type": "markdown",
   "id": "deluxe-terror",
   "metadata": {},
   "source": [
    "### Matlab - d1"
   ]
  },
  {
   "cell_type": "code",
   "execution_count": null,
   "id": "phantom-mumbai",
   "metadata": {},
   "outputs": [],
   "source": [
    "sys.path.append('/home/jra21/work/source/repos/openep-core')\n",
    "filename = '/home/jra21/work/source/repos/openep-core/py_d1.mat'\n",
    "mat_d1_file = openep_io.load_mat(filename)\n",
    "mat_d1 = mat_d1_file['py_d1'].flatten()\n",
    "\n",
    "mat_d1_NotNan = mat_d1[~np.isnan(mat_d1)]\n",
    "print(mat_d1_NotNan.shape)\n",
    "\n",
    "for item in mat_d1_NotNan:\n",
    "    print(item)"
   ]
  },
  {
   "cell_type": "code",
   "execution_count": null,
   "id": "average-colombia",
   "metadata": {},
   "outputs": [],
   "source": [
    "x = range(len(mat_d1_NotNan))\n",
    "y = mat_d1_NotNan\n",
    "plt.plot(x,y,'ro')"
   ]
  },
  {
   "cell_type": "markdown",
   "id": "least-lounge",
   "metadata": {},
   "source": [
    "### Py_code - d1"
   ]
  },
  {
   "cell_type": "code",
   "execution_count": null,
   "id": "developmental-evolution",
   "metadata": {},
   "outputs": [],
   "source": [
    "VertexVoltageData_NotNan = VertexVoltageData[~np.isnan(VertexVoltageData)]\n",
    "print(VertexVoltageData_NotNan.shape)\n",
    "for item in VertexVoltageData_NotNan:\n",
    "    print(item)"
   ]
  },
  {
   "cell_type": "code",
   "execution_count": null,
   "id": "immune-lodging",
   "metadata": {},
   "outputs": [],
   "source": [
    "x = range(len(VertexVoltageData_NotNan))\n",
    "y = VertexVoltageData_NotNan\n",
    "plt.plot(x,y,'bo')"
   ]
  },
  {
   "cell_type": "markdown",
   "id": "ordinary-maldives",
   "metadata": {},
   "source": [
    "### SciPy - rbf"
   ]
  },
  {
   "cell_type": "code",
   "execution_count": null,
   "id": "covered-accordance",
   "metadata": {},
   "outputs": [],
   "source": [
    "d1_py\n",
    "\n",
    "print(d1_py.shape)\n",
    "\n",
    "for item in d1_py:\n",
    "    print(item)"
   ]
  },
  {
   "cell_type": "code",
   "execution_count": null,
   "id": "lonely-judge",
   "metadata": {},
   "outputs": [],
   "source": [
    "x = range(len(d1_py))\n",
    "print(x)\n",
    "y = d1_py\n",
    "plt.plot(x,y,'go')\n"
   ]
  },
  {
   "cell_type": "markdown",
   "id": "operational-active",
   "metadata": {},
   "source": [
    "### difference between Mat d1 and Py d1"
   ]
  },
  {
   "cell_type": "code",
   "execution_count": null,
   "id": "oriental-matrix",
   "metadata": {},
   "outputs": [],
   "source": [
    "diff = np.subtract(VertexVoltageData_NotNan,mat_d1_NotNan)\n",
    "print(np.absolute(diff).max())"
   ]
  },
  {
   "cell_type": "markdown",
   "id": "regulation-vehicle",
   "metadata": {},
   "source": [
    "### Trimesh Plot with FreeBoundary/Outline"
   ]
  },
  {
   "cell_type": "code",
   "execution_count": null,
   "id": "worthy-jenny",
   "metadata": {
    "scrolled": true
   },
   "outputs": [],
   "source": [
    "import trimesh\n",
    "\n",
    "\n",
    "# print(ep_case)\n",
    "nodes = ep_case.nodes\n",
    "# print(nodes)\n",
    "indices = ep_case.indices\n",
    "# print(indices)\n",
    "\n",
    "mesh = trimesh.Trimesh(vertices=nodes,faces=indices)\n",
    "\n",
    "freeBoundary = mesh.outline().to_dict()\n",
    "inds = np.array(freeBoundary['entities'][0]['points'])\n",
    "\n",
    "\n",
    "print(indices[inds])\n",
    "\n",
    "\n",
    "# freeBoundary = ep_case_mesh.outline()\n",
    "# # vertex_index = ep_case_mesh.outline().vertex_nodes()\n",
    "\n",
    "# print(dir(freeBoundary))\n",
    "# print(freeBoundary.vertex_nodes)\n",
    "\n",
    "\n",
    "scene = trimesh.Scene([ep_case_mesh])\n",
    "scene.show()"
   ]
  }
 ],
 "metadata": {
  "kernelspec": {
   "display_name": "Python 3",
   "language": "python",
   "name": "python3"
  },
  "language_info": {
   "codemirror_mode": {
    "name": "ipython",
    "version": 3
   },
   "file_extension": ".py",
   "mimetype": "text/x-python",
   "name": "python",
   "nbconvert_exporter": "python",
   "pygments_lexer": "ipython3",
   "version": "3.8.5"
  }
 },
 "nbformat": 4,
 "nbformat_minor": 5
}
