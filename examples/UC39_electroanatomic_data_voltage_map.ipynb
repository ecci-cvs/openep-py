{
 "cells": [
  {
   "cell_type": "code",
   "execution_count": 1,
   "id": "7997da59",
   "metadata": {},
   "outputs": [],
   "source": [
    "import sys\n",
    "sys.path.append('/home/jra21/work/source/repos/opep')"
   ]
  },
  {
   "cell_type": "code",
   "execution_count": 2,
   "id": "7dd33720",
   "metadata": {},
   "outputs": [],
   "source": [
    "from openep import io as openep_io\n",
    "from openep import case as openep_case\n",
    "from openep import mesh_routines as openep_mesh\n",
    "from openep import case_routines as case_routines\n",
    "from openep import draw_routines as draw\n",
    "import numpy as np"
   ]
  },
  {
   "cell_type": "code",
   "execution_count": 3,
   "id": "1826c5d2",
   "metadata": {},
   "outputs": [],
   "source": [
    "filename = '/home/jra21/work/source/repos/opep/examples/data/new_dataset_2.mat'\n",
    "distance_thresh = 10\n",
    "\n",
    "ep_case = openep_io.load_case(filename)"
   ]
  },
  {
   "cell_type": "code",
   "execution_count": 4,
   "id": "662cd96a",
   "metadata": {},
   "outputs": [],
   "source": [
    "# Anatomic descriptions (Mesh) - nodes and indices\n",
    "pts = ep_case.nodes\n",
    "indices = ep_case.indices\n"
   ]
  },
  {
   "cell_type": "code",
   "execution_count": 5,
   "id": "dcf3102b",
   "metadata": {},
   "outputs": [
    {
     "name": "stdout",
     "output_type": "stream",
     "text": [
      "RBF Check\n",
      "max|y - yi| = 5.659028801119348e-12\n",
      "Perimeter is : 49.6852 | Area is: 154.7759\n",
      "Perimeter is : 98.9257 | Area is: 634.7572\n",
      "Perimeter is : 69.4603 | Area is: 331.5392\n",
      "Perimeter is : 66.8485 | Area is: 260.1277\n",
      "Perimeter is : 65.7998 | Area is: 282.0847\n",
      "Perimeter is : 122.2539 | Area is: 949.7377\n",
      "Perimeter is : 84.9425 | Area is: 508.7818\n"
     ]
    },
    {
     "data": {
      "application/vnd.jupyter.widget-view+json": {
       "model_id": "084fb0a22c24469295e55b53b8b693a1",
       "version_major": 2,
       "version_minor": 0
      },
      "text/plain": [
       "ViewInteractiveWidget(height=768, layout=Layout(height='auto', width='100%'), width=1024)"
      ]
     },
     "metadata": {},
     "output_type": "display_data"
    }
   ],
   "source": [
    "# Electric data\n",
    "# Locations – Cartesian co-ordinates, projected on to the surface \n",
    "locations = case_routines.get_electrogram_coordinates(ep_case,'type','bip')\n",
    "i_egm = ep_case.electric['egm'].T\n",
    "i_vp = case_routines.getMappingPointsWithinWoI(ep_case)\n",
    "# macthing the shape of ivp with data\n",
    "i_vp_egm = np.repeat(i_vp, repeats=i_egm.shape[1], axis=1)\n",
    "# macthing the shape of ivp with coords\n",
    "i_vp_locations = np.repeat(i_vp, repeats=locations.shape[1],axis=1)\n",
    "\n",
    "# Replacing the values outside the window of interest with Nan values\n",
    "i_egm[~i_vp_egm] = np.nan\n",
    "locations[~i_vp_locations] = np.nan\n",
    "\n",
    "# For each mapping point, n, find the voltage amplitude\n",
    "max_volt = np.amax(a=i_egm,axis=1).reshape(len(i_egm),1)\n",
    "min_volt = np.amin(a=i_egm,axis=1).reshape(len(i_egm),1)\n",
    "\n",
    "amplitude_volt = np.subtract(max_volt,min_volt)\n",
    "\n",
    "for indx in range(amplitude_volt.shape[1]):\n",
    "    temp_data = amplitude_volt[:,indx]\n",
    "    temp_coords = locations\n",
    "    i_nan = np.isnan(temp_data)\n",
    "    temp_data=temp_data[~i_nan]\n",
    "    temp_coords=temp_coords[~i_nan]\n",
    "\n",
    "\n",
    "    interp = case_routines.OpenEPDataInterpolator(method='rbf',distanceThreshold=distance_thresh,rbfConstant=1)\n",
    "    vertex_voltage_data = interp.interpolate(x0=temp_coords,d0=temp_data,x1=pts)\n",
    "\n",
    "\n",
    "\n",
    "vsurf = draw.DrawMap(ep_case,\n",
    "        volt = vertex_voltage_data,\n",
    "        freeboundary_color='black',\n",
    "        cmap='jet_r',\n",
    "        freeboundary_width=5,\n",
    "        minval=0,\n",
    "        maxval=2,\n",
    "        volt_below_color='brown', \n",
    "        volt_above_color='magenta', \n",
    "        nan_color='gray', \n",
    "        plot=True,)"
   ]
  },
  {
   "cell_type": "code",
   "execution_count": 6,
   "id": "8fda9738",
   "metadata": {},
   "outputs": [],
   "source": [
    "# import numpy as np\n",
    "\n",
    "# def get_electrogram_coordinates(mesh_case, *args):\n",
    "#     '''\n",
    "    \n",
    "#     '''\n",
    "#     n_standard_args = 1\n",
    "#     v_type = \"bip\"\n",
    "    \n",
    "#     nargin = len(args)+1\n",
    "#     if nargin>n_standard_args:\n",
    "#         for i in range(0,(nargin-n_standard_args),2):\n",
    "#             if np.char.lower(args[i]) == \"type\":\n",
    "#                 v_type = args[i+1]\n",
    "    \n",
    "#     if np.char.lower(v_type) == \"bip\":\n",
    "#         x = mesh_case.electric[\"egmX\"].T\n",
    "        \n",
    "#     elif np.char.lower(v_type) == \"uni\":\n",
    "#         if not(\"egmUniX\" in mesh_case.electric):\n",
    "#             raise ValueError(\"There is no unipolar data associated with this openep case\")\n",
    "            \n",
    "#         else:\n",
    "#             x = mesh_case.electric['egmUniX'].T\n",
    "        \n",
    "#     return x"
   ]
  },
  {
   "cell_type": "code",
   "execution_count": 8,
   "id": "099863eb",
   "metadata": {},
   "outputs": [],
   "source": [
    "# Load EGM voltage values\n",
    "# UseCase 28 - Get the electrogam at a mapping point #39\n",
    "\n",
    "def get_egms_at_points(mesh_case,):\n",
    "    pass"
   ]
  }
 ],
 "metadata": {
  "kernelspec": {
   "display_name": "Python 3",
   "language": "python",
   "name": "python3"
  },
  "language_info": {
   "codemirror_mode": {
    "name": "ipython",
    "version": 3
   },
   "file_extension": ".py",
   "mimetype": "text/x-python",
   "name": "python",
   "nbconvert_exporter": "python",
   "pygments_lexer": "ipython3",
   "version": "3.8.5"
  }
 },
 "nbformat": 4,
 "nbformat_minor": 5
}
