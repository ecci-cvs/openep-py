{
 "cells": [
  {
   "cell_type": "code",
   "execution_count": 1,
   "id": "c6a9c5d2",
   "metadata": {},
   "outputs": [],
   "source": [
    "import sys\n",
    "sys.path.append('/home/jra21/work/source/repos/opep')"
   ]
  },
  {
   "cell_type": "code",
   "execution_count": 2,
   "id": "f3487ac0",
   "metadata": {},
   "outputs": [],
   "source": [
    "from openep import io as openep_io\n",
    "from openep import case as openep_case\n",
    "from openep import mesh_routines as openep_mesh\n",
    "from openep import case_routines as case_routines\n",
    "from openep import draw_routines as draw"
   ]
  },
  {
   "cell_type": "code",
   "execution_count": 3,
   "id": "e5a9d506",
   "metadata": {},
   "outputs": [],
   "source": [
    "filename = '/home/jra21/work/source/repos/opep/examples/data/new_dataset_2.mat'\n",
    "distanceThresh = 10\n",
    "\n",
    "ep_case = openep_io.load_case(filename)"
   ]
  },
  {
   "cell_type": "code",
   "execution_count": 4,
   "id": "f93b0a2e",
   "metadata": {},
   "outputs": [],
   "source": [
    "# Anatomic descriptions (Mesh) - nodes and indices\n",
    "pts = ep_case.nodes\n",
    "indices = ep_case.indices\n"
   ]
  },
  {
   "cell_type": "code",
   "execution_count": 5,
   "id": "6850a84f",
   "metadata": {},
   "outputs": [],
   "source": [
    "# import numpy as np\n",
    "\n",
    "# def get_electrogram_coordinates(mesh_case, *args):\n",
    "#     '''\n",
    "    \n",
    "#     '''\n",
    "#     n_standard_args = 1\n",
    "#     v_type = \"bip\"\n",
    "    \n",
    "#     nargin = len(args)+1\n",
    "#     if nargin>n_standard_args:\n",
    "#         for i in range(0,(nargin-n_standard_args),2):\n",
    "#             if np.char.lower(args[i]) == \"type\":\n",
    "#                 v_type = args[i+1]\n",
    "    \n",
    "#     if np.char.lower(v_type) == \"bip\":\n",
    "#         x = mesh_case.electric[\"egmX\"].T\n",
    "        \n",
    "#     elif np.char.lower(v_type) == \"uni\":\n",
    "#         if not(\"egmUniX\" in mesh_case.electric):\n",
    "#             raise ValueError(\"There is no unipolar data associated with this openep case\")\n",
    "            \n",
    "#         else:\n",
    "#             x = mesh_case.electric['egmUniX'].T\n",
    "        \n",
    "#     return x"
   ]
  },
  {
   "cell_type": "code",
   "execution_count": 6,
   "id": "7538ab69",
   "metadata": {},
   "outputs": [
    {
     "name": "stdout",
     "output_type": "stream",
     "text": [
      "locations\n",
      " <class 'numpy.ndarray'>\n"
     ]
    }
   ],
   "source": [
    "# Electric data\n",
    "# Locations – Cartesian co-ordinates, projected on to the surface \n",
    "locations = case_routines.get_electrogram_coordinates(ep_case,'type','bip')\n",
    "\n",
    "print('locations\\n',type(locations))\n",
    "# print(ep_case.fields['bip'].T)\n",
    "# Voltages – time series of electrogram voltages \n",
    "# voltages = ep_case.electric['egm'].T\n",
    "\n"
   ]
  },
  {
   "cell_type": "code",
   "execution_count": 7,
   "id": "57a6f45e",
   "metadata": {},
   "outputs": [
    {
     "name": "stdout",
     "output_type": "stream",
     "text": [
      "(800, 3)\n"
     ]
    },
    {
     "ename": "NameError",
     "evalue": "name 'voltages' is not defined",
     "output_type": "error",
     "traceback": [
      "\u001b[0;31m---------------------------------------------------------------------------\u001b[0m",
      "\u001b[0;31mNameError\u001b[0m                                 Traceback (most recent call last)",
      "\u001b[0;32m<ipython-input-7-2ebdf710a23a>\u001b[0m in \u001b[0;36m<module>\u001b[0;34m\u001b[0m\n\u001b[1;32m      1\u001b[0m \u001b[0mprint\u001b[0m\u001b[0;34m(\u001b[0m\u001b[0mlocations\u001b[0m\u001b[0;34m.\u001b[0m\u001b[0mshape\u001b[0m\u001b[0;34m)\u001b[0m\u001b[0;34m\u001b[0m\u001b[0;34m\u001b[0m\u001b[0m\n\u001b[0;32m----> 2\u001b[0;31m \u001b[0mprint\u001b[0m\u001b[0;34m(\u001b[0m\u001b[0mvoltages\u001b[0m\u001b[0;34m.\u001b[0m\u001b[0mshape\u001b[0m\u001b[0;34m)\u001b[0m\u001b[0;34m\u001b[0m\u001b[0;34m\u001b[0m\u001b[0m\n\u001b[0m",
      "\u001b[0;31mNameError\u001b[0m: name 'voltages' is not defined"
     ]
    }
   ],
   "source": [
    "print(locations.shape)\n",
    "print(voltages.shape)"
   ]
  }
 ],
 "metadata": {
  "kernelspec": {
   "display_name": "Python 3",
   "language": "python",
   "name": "python3"
  },
  "language_info": {
   "codemirror_mode": {
    "name": "ipython",
    "version": 3
   },
   "file_extension": ".py",
   "mimetype": "text/x-python",
   "name": "python",
   "nbconvert_exporter": "python",
   "pygments_lexer": "ipython3",
   "version": "3.8.5"
  }
 },
 "nbformat": 4,
 "nbformat_minor": 5
}
