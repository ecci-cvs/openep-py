{
 "cells": [
  {
   "cell_type": "code",
   "execution_count": 47,
   "metadata": {},
   "outputs": [],
   "source": [
    "import pathlib\n",
    "\n",
    "import numpy as np\n",
    "import scipy.stats\n",
    "import matplotlib.pyplot as plt\n",
    "\n",
    "import openep\n",
    "from openep._datasets.openep_datasets import DATASET_2"
   ]
  },
  {
   "cell_type": "code",
   "execution_count": 2,
   "metadata": {},
   "outputs": [],
   "source": [
    "# Set the backend used for plotting\n",
    "import pyvista\n",
    "pyvista.set_jupyter_backend('ipygany')"
   ]
  },
  {
   "cell_type": "markdown",
   "metadata": {},
   "source": [
    "# Load a case\n",
    "We will load a `.mat` file that was created using OpenEP-MATLAB and then take a look at the data stored in the case"
   ]
  },
  {
   "cell_type": "code",
   "execution_count": 3,
   "metadata": {},
   "outputs": [],
   "source": [
    "case = openep.load_openep_mat(DATASET_2)\n"
   ]
  },
  {
   "cell_type": "markdown",
   "metadata": {},
   "source": [
    "Note, `DATASET_2` is simply a path to a `.mat` file"
   ]
  },
  {
   "cell_type": "code",
   "execution_count": 4,
   "metadata": {
    "scrolled": true
   },
   "outputs": [
    {
     "name": "stdout",
     "output_type": "stream",
     "text": [
      "c:\\Anaconda3\\envs\\openep-tutorials\\lib\\site-packages\\openep\\_datasets\\OpenEP-MATLAB\\openep_dataset_2.mat\n"
     ]
    }
   ],
   "source": [
    "print(DATASET_2)"
   ]
  },
  {
   "cell_type": "markdown",
   "metadata": {},
   "source": [
    "### Look at the surface data\n"
   ]
  },
  {
   "cell_type": "code",
   "execution_count": 5,
   "metadata": {},
   "outputs": [
    {
     "name": "stdout",
     "output_type": "stream",
     "text": [
      "openep_dataset_2.mat( nodes: (14383, 3) indices: (16942, 3) fields: ('bipolar_voltage', 'unipolar_voltage', 'local_activation_time', 'impedance', 'force', 'thickness', 'cell_region', 'longitudinal_fibres', 'transverse_fibres', 'pacing_site') )\n"
     ]
    }
   ],
   "source": [
    "print(case)  # The surface mesh has 14383 nodes, 16942 triangles"
   ]
  },
  {
   "cell_type": "markdown",
   "metadata": {},
   "source": [
    "The nodes and triangle data of the surface mesh are stored in `case.points` and `case.indices` respectively"
   ]
  },
  {
   "cell_type": "code",
   "execution_count": 6,
   "metadata": {},
   "outputs": [
    {
     "data": {
      "text/plain": [
       "array([[ 46.451, -98.879, 155.286],\n",
       "       [ 38.777, -94.997, 121.448],\n",
       "       [ 37.268, -69.189, 141.284],\n",
       "       ...,\n",
       "       [-62.585, -77.163, 133.982],\n",
       "       [-63.766, -76.47 , 119.425],\n",
       "       [-64.5  , -75.396, 119.241]])"
      ]
     },
     "execution_count": 6,
     "metadata": {},
     "output_type": "execute_result"
    }
   ],
   "source": [
    "case.points  # the x, y, z coordinate of each node in the surface mesh"
   ]
  },
  {
   "cell_type": "code",
   "execution_count": 7,
   "metadata": {},
   "outputs": [
    {
     "data": {
      "text/plain": [
       "array([[ 5343,  7474,  7523],\n",
       "       [ 7976,  4159,  4138],\n",
       "       [ 7953,  5780, 12295],\n",
       "       ...,\n",
       "       [10283, 10270, 14360],\n",
       "       [10283, 14360, 14361],\n",
       "       [14380,  6871, 14364]])"
      ]
     },
     "execution_count": 7,
     "metadata": {},
     "output_type": "execute_result"
    }
   ],
   "source": [
    "case.indices  # the indices of nodes in each triangle"
   ]
  },
  {
   "cell_type": "markdown",
   "metadata": {},
   "source": [
    "Scalar data associated with the mesh are stored in `case.fields`"
   ]
  },
  {
   "cell_type": "code",
   "execution_count": 8,
   "metadata": {},
   "outputs": [
    {
     "data": {
      "text/plain": [
       "fields: ('bipolar_voltage', 'unipolar_voltage', 'local_activation_time', 'impedance', 'force', 'thickness', 'cell_region', 'longitudinal_fibres', 'transverse_fibres', 'pacing_site')"
      ]
     },
     "execution_count": 8,
     "metadata": {},
     "output_type": "execute_result"
    }
   ],
   "source": [
    "case.fields"
   ]
  },
  {
   "cell_type": "code",
   "execution_count": 9,
   "metadata": {},
   "outputs": [
    {
     "data": {
      "text/plain": [
       "array([    nan, 1.07604, 1.71656, ..., 0.32316, 0.16372, 0.19536])"
      ]
     },
     "execution_count": 9,
     "metadata": {},
     "output_type": "execute_result"
    }
   ],
   "source": [
    "case.fields.bipolar_voltage"
   ]
  },
  {
   "cell_type": "markdown",
   "metadata": {},
   "source": [
    "### Visualising the surface mesh"
   ]
  },
  {
   "cell_type": "code",
   "execution_count": 10,
   "metadata": {},
   "outputs": [],
   "source": [
    "mesh = case.create_mesh()  # creates a pyvista.PolyData mesh from case.points and case.indices"
   ]
  },
  {
   "cell_type": "code",
   "execution_count": 11,
   "metadata": {},
   "outputs": [
    {
     "data": {
      "text/html": [
       "\n",
       "<table>\n",
       "<tr><th>PolyData</th><th>Information</th></tr>\n",
       "<tr><td>N Cells</td><td>16942</td></tr>\n",
       "<tr><td>N Points</td><td>14383</td></tr>\n",
       "<tr><td>X Bounds</td><td>-7.584e+01, 6.374e+01</td></tr>\n",
       "<tr><td>Y Bounds</td><td>-1.300e+02, -3.585e+01</td></tr>\n",
       "<tr><td>Z Bounds</td><td>7.937e+01, 1.712e+02</td></tr>\n",
       "<tr><td>N Arrays</td><td>0</td></tr>\n",
       "</table>\n",
       "\n"
      ],
      "text/plain": [
       "PolyData (0x299a04e1220)\n",
       "  N Cells:\t16942\n",
       "  N Points:\t14383\n",
       "  X Bounds:\t-7.584e+01, 6.374e+01\n",
       "  Y Bounds:\t-1.300e+02, -3.585e+01\n",
       "  Z Bounds:\t7.937e+01, 1.712e+02\n",
       "  N Arrays:\t0"
      ]
     },
     "execution_count": 11,
     "metadata": {},
     "output_type": "execute_result"
    }
   ],
   "source": [
    "mesh"
   ]
  },
  {
   "cell_type": "code",
   "execution_count": 12,
   "metadata": {},
   "outputs": [],
   "source": [
    "plotter = openep.draw.draw_map(\n",
    "    mesh=mesh,\n",
    "    field=case.fields.bipolar_voltage,\n",
    "    add_mesh_kws=dict(cmap='Turbo'),\n",
    ")  # creates a pyvista.Plotter\n"
   ]
  },
  {
   "cell_type": "code",
   "execution_count": 13,
   "metadata": {},
   "outputs": [
    {
     "name": "stderr",
     "output_type": "stream",
     "text": [
      "c:\\Anaconda3\\envs\\openep-tutorials\\lib\\site-packages\\traittypes\\traittypes.py:97: UserWarning: Given trait value dtype \"float64\" does not match required type \"float64\". A coerced copy has been created.\n",
      "  warnings.warn(\n"
     ]
    },
    {
     "data": {
      "application/vnd.jupyter.widget-view+json": {
       "model_id": "4c7dcfdccaf044fcbfcb0d3ee0ffcd0b",
       "version_major": 2,
       "version_minor": 0
      },
      "text/plain": [
       "AppLayout(children=(VBox(children=(HTML(value='<h3></h3>'), Dropdown(description='Colormap:', options={'BrBG':…"
      ]
     },
     "metadata": {},
     "output_type": "display_data"
    }
   ],
   "source": [
    "plotter.show()"
   ]
  },
  {
   "cell_type": "markdown",
   "metadata": {},
   "source": [
    "### Electrical data\n",
    "The bipolar electrograms, unipolar electrograms, reference electrograms, and ecgs are all stored in `case.electric`"
   ]
  },
  {
   "cell_type": "code",
   "execution_count": 14,
   "metadata": {},
   "outputs": [
    {
     "data": {
      "text/plain": [
       "Electric data for 800 mapping points."
      ]
     },
     "execution_count": 14,
     "metadata": {},
     "output_type": "execute_result"
    }
   ],
   "source": [
    "case.electric  # we see there are 800 mapping points in this case"
   ]
  },
  {
   "cell_type": "code",
   "execution_count": 15,
   "metadata": {},
   "outputs": [
    {
     "data": {
      "text/plain": [
       "Electrograms with 800 mapping points."
      ]
     },
     "execution_count": 15,
     "metadata": {},
     "output_type": "execute_result"
    }
   ],
   "source": [
    "case.electric.bipolar_egm  # this is an Electrogram object, containing information about bipolar egms"
   ]
  },
  {
   "cell_type": "code",
   "execution_count": 27,
   "metadata": {},
   "outputs": [
    {
     "data": {
      "text/plain": [
       "array([[ 0.018,  0.012, -0.006, ..., -0.015, -0.018, -0.27 ],\n",
       "       [ 0.042,  0.036,  0.03 , ...,  0.006,  0.003, -0.165],\n",
       "       [ 0.024,  0.018,  0.   , ...,  0.003,  0.015, -0.243],\n",
       "       ...,\n",
       "       [ 0.036,  0.033,  0.036, ...,  0.003,  0.   , -0.174],\n",
       "       [ 0.003,  0.033,  0.039, ...,  0.   , -0.003, -0.12 ],\n",
       "       [ 0.021,  0.009,  0.   , ..., -0.003,  0.018, -0.162]])"
      ]
     },
     "execution_count": 27,
     "metadata": {},
     "output_type": "execute_result"
    }
   ],
   "source": [
    "case.electric.bipolar_egm.egm  # the signals, shape (n_points, n_samples)"
   ]
  },
  {
   "cell_type": "code",
   "execution_count": 28,
   "metadata": {},
   "outputs": [
    {
     "data": {
      "text/plain": [
       "array([[ 35.4827, -71.0754, 137.582 ],\n",
       "       [ 38.9305, -94.7062, 129.127 ],\n",
       "       [ 24.7715, -70.5703, 121.098 ],\n",
       "       ...,\n",
       "       [-21.7413, -67.7685, 125.969 ],\n",
       "       [-54.4597, -74.8781, 128.007 ],\n",
       "       [-63.832 , -76.5177, 121.271 ]])"
      ]
     },
     "execution_count": 28,
     "metadata": {},
     "output_type": "execute_result"
    }
   ],
   "source": [
    "case.electric.bipolar_egm.points  # the x, y, z, coordinates of each mapping point"
   ]
  },
  {
   "cell_type": "code",
   "execution_count": 25,
   "metadata": {},
   "outputs": [
    {
     "name": "stdout",
     "output_type": "stream",
     "text": [
      "number of mapping points: 800\n",
      "number of samples: 2500\n",
      "first 5 electrode names: ['20A_19-20' '20A_1-2' '20A_17-18' '20A_17-18' '20A_9-10']\n",
      "first 5 voltage values: [0.651 0.45  1.542 0.513 0.315]\n"
     ]
    }
   ],
   "source": [
    "print(f'number of mapping points: {case.electric.bipolar_egm.n_points}')\n",
    "print(f'number of samples: {case.electric.bipolar_egm.n_samples}')\n",
    "print(f'first 5 electrode names: {case.electric.bipolar_egm.names[:5]}')\n",
    "print(f'first 5 voltage values: {case.electric.bipolar_egm.voltage[:5]}')\n"
   ]
  },
  {
   "cell_type": "code",
   "execution_count": 19,
   "metadata": {},
   "outputs": [
    {
     "data": {
      "image/png": "[encoded data removed]",
      "text/plain": [
       "<Figure size 600x120 with 1 Axes>"
      ]
     },
     "metadata": {},
     "output_type": "display_data"
    }
   ],
   "source": [
    "egm_figure, egm_axes = openep.draw.plot_electrograms(\n",
    "    times=case.electric.times,\n",
    "    electrograms=case.electric.bipolar_egm.egm[:3],  # plot the first 3 electrograms\n",
    "    names=case.electric.bipolar_egm.names[:3],  # pass the first 3 electrode names\n",
    ")  # creates a matplotlib.pyplot.Figure and matplotlib.pyplot.Axes\n"
   ]
  },
  {
   "cell_type": "code",
   "execution_count": 20,
   "metadata": {},
   "outputs": [
    {
     "data": {
      "image/png": "[encoded data removed]",
      "text/plain": [
       "<Figure size 600x120 with 1 Axes>"
      ]
     },
     "execution_count": 20,
     "metadata": {},
     "output_type": "execute_result"
    }
   ],
   "source": [
    "egm_figure"
   ]
  },
  {
   "cell_type": "code",
   "execution_count": 21,
   "metadata": {},
   "outputs": [
    {
     "data": {
      "text/plain": [
       "<AxesSubplot:>"
      ]
     },
     "execution_count": 21,
     "metadata": {},
     "output_type": "execute_result"
    }
   ],
   "source": [
    "egm_axes"
   ]
  },
  {
   "cell_type": "markdown",
   "metadata": {},
   "source": [
    "### Interpolate electrical data onto the surface mesh\n",
    "The bipolar voltage we visualised above (`case.fields.bipolar_voltage`) was calculated by CARTO and then exported from the mapping system.\n",
    "\n",
    "However, it is not known what interpolation method is used by CARTO (or other system vendors) nor the interpolation parameters.\n",
    "\n",
    "We can use OpenEP to re-interpolate electrical data onto the surface."
   ]
  },
  {
   "cell_type": "code",
   "execution_count": 29,
   "metadata": {},
   "outputs": [],
   "source": [
    "bipolar_voltage = openep.case.interpolate_voltage_onto_surface(case=case)"
   ]
  },
  {
   "cell_type": "code",
   "execution_count": 30,
   "metadata": {},
   "outputs": [
    {
     "name": "stderr",
     "output_type": "stream",
     "text": [
      "c:\\Anaconda3\\envs\\openep-tutorials\\lib\\site-packages\\traittypes\\traittypes.py:97: UserWarning: Given trait value dtype \"float64\" does not match required type \"float64\". A coerced copy has been created.\n",
      "  warnings.warn(\n"
     ]
    },
    {
     "data": {
      "application/vnd.jupyter.widget-view+json": {
       "model_id": "eead2731cb3b4176b62668c2f96f57eb",
       "version_major": 2,
       "version_minor": 0
      },
      "text/plain": [
       "AppLayout(children=(VBox(children=(HTML(value='<h3></h3>'), Dropdown(description='Colormap:', options={'BrBG':…"
      ]
     },
     "metadata": {},
     "output_type": "display_data"
    }
   ],
   "source": [
    "mesh.clear_data()\n",
    "plotter = openep.draw.draw_map(\n",
    "    mesh=mesh,\n",
    "    field=case.fields.bipolar_voltage,\n",
    "    add_mesh_kws=dict(cmap='Turbo'),\n",
    ")\n",
    "plotter.show()"
   ]
  },
  {
   "cell_type": "code",
   "execution_count": 31,
   "metadata": {},
   "outputs": [
    {
     "data": {
      "application/vnd.jupyter.widget-view+json": {
       "model_id": "6b9cb88a92794b01aa3ba8ff7cfe05cb",
       "version_major": 2,
       "version_minor": 0
      },
      "text/plain": [
       "AppLayout(children=(VBox(children=(HTML(value='<h3></h3>'), Dropdown(description='Colormap:', options={'BrBG':…"
      ]
     },
     "metadata": {},
     "output_type": "display_data"
    }
   ],
   "source": [
    "mesh.clear_data()\n",
    "plotter = openep.draw.draw_map(\n",
    "    mesh=mesh,\n",
    "    field=bipolar_voltage,\n",
    "    add_mesh_kws=dict(cmap='Turbo'),\n",
    ")\n",
    "plotter.show()\n"
   ]
  },
  {
   "cell_type": "code",
   "execution_count": 36,
   "metadata": {},
   "outputs": [
    {
     "data": {
      "image/png": "[encoded data removed]",
      "text/plain": [
       "<Figure size 640x480 with 1 Axes>"
      ]
     },
     "metadata": {},
     "output_type": "display_data"
    }
   ],
   "source": [
    "corr = plt.scatter(\n",
    "    case.fields.bipolar_voltage,\n",
    "    bipolar_voltage,\n",
    ")\n",
    "plt.xlabel('CARTO voltage (mV)')\n",
    "plt.ylabel('Interpolated voltage (mV)')\n",
    "corr.axes.set_aspect('equal')"
   ]
  },
  {
   "cell_type": "code",
   "execution_count": 38,
   "metadata": {},
   "outputs": [
    {
     "data": {
      "text/plain": [
       "Text(0, 0.5, 'Interpolated voltage (mV)')"
      ]
     },
     "execution_count": 38,
     "metadata": {},
     "output_type": "execute_result"
    },
    {
     "data": {
      "image/png": "[encoded data removed]",
      "text/plain": [
       "<Figure size 640x480 with 1 Axes>"
      ]
     },
     "metadata": {},
     "output_type": "display_data"
    }
   ],
   "source": [
    "bins = np.linspace(0, 4, 41)\n",
    "corr = plt.hist2d(\n",
    "    x=case.fields.bipolar_voltage,\n",
    "    y=bipolar_voltage,\n",
    "    bins=bins,\n",
    ")\n",
    "plt.xlabel('CARTO voltage (mV)')\n",
    "plt.ylabel('Interpolated voltage (mV)')\n"
   ]
  },
  {
   "cell_type": "code",
   "execution_count": 39,
   "metadata": {},
   "outputs": [],
   "source": [
    "exclude = np.logical_or(\n",
    "    np.isnan(bipolar_voltage),\n",
    "    np.isnan(case.fields.bipolar_voltage),\n",
    ")\n",
    "r, p = scipy.stats.pearsonr(bipolar_voltage[~exclude], case.fields.bipolar_voltage[~exclude])"
   ]
  },
  {
   "cell_type": "code",
   "execution_count": 40,
   "metadata": {},
   "outputs": [
    {
     "data": {
      "text/plain": [
       "0.868535653295952"
      ]
     },
     "execution_count": 40,
     "metadata": {},
     "output_type": "execute_result"
    }
   ],
   "source": [
    "r  # Pearson correlation coefficient between CARTO voltages and interpolated voltages"
   ]
  },
  {
   "cell_type": "markdown",
   "metadata": {},
   "source": [
    "## Load an openCARP dataset"
   ]
  },
  {
   "cell_type": "code",
   "execution_count": 41,
   "metadata": {},
   "outputs": [],
   "source": [
    "case = openep.load_opencarp(\n",
    "    points='C:/Users/Paul/Documents/software/development/openep-misc/examples/data/pig21_endo_coarse.pts',\n",
    "    indices='C:/Users/Paul/Documents/software/development/openep-misc/examples/data/pig21_endo_coarse.elem',\n",
    "    fibres=None,\n",
    "    scale_points=1e-3,  # convert micrometres to mm\n",
    ")\n"
   ]
  },
  {
   "cell_type": "markdown",
   "metadata": {},
   "source": [
    "Currently, there is no electrical data in this case. We can add unipolar electrograms:"
   ]
  },
  {
   "cell_type": "code",
   "execution_count": 42,
   "metadata": {},
   "outputs": [],
   "source": [
    "# First load the data with numpy\n",
    "unipolar_egm = np.loadtxt('C:/Users/Paul/Documents/software/development/openep-misc/examples/data/pig21_endo_coarse_phie.dat')\n",
    "\n",
    "# Add the egms to the case\n",
    "case.add_unipolar_electrograms(\n",
    "    unipolar=unipolar_egm,\n",
    "    add_bipolar=True,  # also calculate bipolar egms from unipolar egms\n",
    ")\n"
   ]
  },
  {
   "cell_type": "markdown",
   "metadata": {},
   "source": [
    "### Visualise electrical on the surface mesh\n",
    "We have loaded unipolar egms and determined bipolar egms from them. Now we can visualise this electrical data on the surface mesh."
   ]
  },
  {
   "cell_type": "code",
   "execution_count": 43,
   "metadata": {},
   "outputs": [],
   "source": [
    "bipolar_voltage = case.electric.bipolar_egm.voltage"
   ]
  },
  {
   "cell_type": "code",
   "execution_count": 45,
   "metadata": {},
   "outputs": [
    {
     "data": {
      "application/vnd.jupyter.widget-view+json": {
       "model_id": "cd31cad474574405ac582791a95ad1c4",
       "version_major": 2,
       "version_minor": 0
      },
      "text/plain": [
       "AppLayout(children=(VBox(children=(HTML(value='<h3></h3>'), Dropdown(description='Colormap:', options={'BrBG':…"
      ]
     },
     "metadata": {},
     "output_type": "display_data"
    }
   ],
   "source": [
    "mesh = case.create_mesh()\n",
    "plotter = openep.draw.draw_map(\n",
    "    mesh=mesh,\n",
    "    field=bipolar_voltage,\n",
    "    add_mesh_kws=dict(cmap='Turbo', clim=[0, 10]),  # set the min and max voltage to 0 and 10 mV respectively\n",
    ")\n",
    "plotter.show()\n"
   ]
  },
  {
   "cell_type": "markdown",
   "metadata": {},
   "source": [
    "# Load a CVI workspace and stack of DICOMS"
   ]
  },
  {
   "cell_type": "code",
   "execution_count": 54,
   "metadata": {},
   "outputs": [],
   "source": [
    "data_directory = pathlib.Path('C:/Users/Paul/Documents/software/development/cvi42_to_mesh/cvi42_to_mesh/_datasets/')\n",
    "cvi_workspace = data_directory / 'cvi42wsx_workspaces' / 'IHD001.cvi42wsx'\n",
    "dicoms_directory = data_directory / 'dicoms' / 'IHD001'\n"
   ]
  },
  {
   "cell_type": "code",
   "execution_count": 61,
   "metadata": {},
   "outputs": [],
   "source": [
    "epi_mesh, endo_mesh, dicoms_data = openep.load_circle_cvi(\n",
    "    filename=cvi_workspace,\n",
    "    dicoms_directory=dicoms_directory,\n",
    "    return_dicoms_data=True,\n",
    ")\n"
   ]
  },
  {
   "cell_type": "code",
   "execution_count": 62,
   "metadata": {},
   "outputs": [
    {
     "data": {
      "text/html": [
       "<div>\n",
       "<style scoped>\n",
       "    .dataframe tbody tr th:only-of-type {\n",
       "        vertical-align: middle;\n",
       "    }\n",
       "\n",
       "    .dataframe tbody tr th {\n",
       "        vertical-align: top;\n",
       "    }\n",
       "\n",
       "    .dataframe thead th {\n",
       "        text-align: right;\n",
       "    }\n",
       "</style>\n",
       "<table border=\"1\" class=\"dataframe\">\n",
       "  <thead>\n",
       "    <tr style=\"text-align: right;\">\n",
       "      <th></th>\n",
       "      <th>slice_location</th>\n",
       "      <th>phase_encode</th>\n",
       "      <th>datetime</th>\n",
       "      <th>dicom_path</th>\n",
       "      <th>dicom_id</th>\n",
       "      <th>slice_thickness</th>\n",
       "      <th>basal_slice</th>\n",
       "      <th>pixel_spacing_x</th>\n",
       "      <th>pixel_spacing_y</th>\n",
       "      <th>upsample_factor</th>\n",
       "    </tr>\n",
       "  </thead>\n",
       "  <tbody>\n",
       "    <tr>\n",
       "      <th>0</th>\n",
       "      <td>56</td>\n",
       "      <td>COL</td>\n",
       "      <td>20100927142817</td>\n",
       "      <td>C:/Users/Paul/Documents/software/development/c...</td>\n",
       "      <td>1.3.6.1.4.1.9590.100.1.2.172053503312281364121...</td>\n",
       "      <td>8.0</td>\n",
       "      <td>True</td>\n",
       "      <td>1.875</td>\n",
       "      <td>1.875</td>\n",
       "      <td>4</td>\n",
       "    </tr>\n",
       "    <tr>\n",
       "      <th>0</th>\n",
       "      <td>64</td>\n",
       "      <td>COL</td>\n",
       "      <td>20100927142817</td>\n",
       "      <td>C:/Users/Paul/Documents/software/development/c...</td>\n",
       "      <td>1.3.6.1.4.1.9590.100.1.2.327507644213058969518...</td>\n",
       "      <td>8.0</td>\n",
       "      <td>True</td>\n",
       "      <td>1.875</td>\n",
       "      <td>1.875</td>\n",
       "      <td>4</td>\n",
       "    </tr>\n",
       "    <tr>\n",
       "      <th>0</th>\n",
       "      <td>72</td>\n",
       "      <td>COL</td>\n",
       "      <td>20100927142822</td>\n",
       "      <td>C:/Users/Paul/Documents/software/development/c...</td>\n",
       "      <td>1.3.6.1.4.1.9590.100.1.2.318223274812269669624...</td>\n",
       "      <td>8.0</td>\n",
       "      <td>True</td>\n",
       "      <td>1.875</td>\n",
       "      <td>1.875</td>\n",
       "      <td>4</td>\n",
       "    </tr>\n",
       "    <tr>\n",
       "      <th>0</th>\n",
       "      <td>80</td>\n",
       "      <td>COL</td>\n",
       "      <td>20100927142822</td>\n",
       "      <td>C:/Users/Paul/Documents/software/development/c...</td>\n",
       "      <td>1.3.6.1.4.1.9590.100.1.2.158673170114156499083...</td>\n",
       "      <td>8.0</td>\n",
       "      <td>True</td>\n",
       "      <td>1.875</td>\n",
       "      <td>1.875</td>\n",
       "      <td>4</td>\n",
       "    </tr>\n",
       "    <tr>\n",
       "      <th>0</th>\n",
       "      <td>88</td>\n",
       "      <td>COL</td>\n",
       "      <td>20100927142827</td>\n",
       "      <td>C:/Users/Paul/Documents/software/development/c...</td>\n",
       "      <td>1.3.6.1.4.1.9590.100.1.2.187757150513143713742...</td>\n",
       "      <td>8.0</td>\n",
       "      <td>True</td>\n",
       "      <td>1.875</td>\n",
       "      <td>1.875</td>\n",
       "      <td>4</td>\n",
       "    </tr>\n",
       "    <tr>\n",
       "      <th>0</th>\n",
       "      <td>96</td>\n",
       "      <td>COL</td>\n",
       "      <td>20100927142827</td>\n",
       "      <td>C:/Users/Paul/Documents/software/development/c...</td>\n",
       "      <td>1.3.6.1.4.1.9590.100.1.2.344654518012187299908...</td>\n",
       "      <td>8.0</td>\n",
       "      <td>True</td>\n",
       "      <td>1.875</td>\n",
       "      <td>1.875</td>\n",
       "      <td>4</td>\n",
       "    </tr>\n",
       "    <tr>\n",
       "      <th>0</th>\n",
       "      <td>104</td>\n",
       "      <td>COL</td>\n",
       "      <td>20100927142832</td>\n",
       "      <td>C:/Users/Paul/Documents/software/development/c...</td>\n",
       "      <td>1.3.6.1.4.1.9590.100.1.2.184797745122824342103...</td>\n",
       "      <td>8.0</td>\n",
       "      <td>True</td>\n",
       "      <td>1.875</td>\n",
       "      <td>1.875</td>\n",
       "      <td>4</td>\n",
       "    </tr>\n",
       "    <tr>\n",
       "      <th>0</th>\n",
       "      <td>112</td>\n",
       "      <td>COL</td>\n",
       "      <td>20100927142832</td>\n",
       "      <td>C:/Users/Paul/Documents/software/development/c...</td>\n",
       "      <td>1.3.6.1.4.1.9590.100.1.2.294259932120461315333...</td>\n",
       "      <td>8.0</td>\n",
       "      <td>True</td>\n",
       "      <td>1.875</td>\n",
       "      <td>1.875</td>\n",
       "      <td>4</td>\n",
       "    </tr>\n",
       "    <tr>\n",
       "      <th>0</th>\n",
       "      <td>120</td>\n",
       "      <td>COL</td>\n",
       "      <td>20100927142837</td>\n",
       "      <td>C:/Users/Paul/Documents/software/development/c...</td>\n",
       "      <td>1.3.6.1.4.1.9590.100.1.2.240128468811107296042...</td>\n",
       "      <td>8.0</td>\n",
       "      <td>True</td>\n",
       "      <td>1.875</td>\n",
       "      <td>1.875</td>\n",
       "      <td>4</td>\n",
       "    </tr>\n",
       "    <tr>\n",
       "      <th>0</th>\n",
       "      <td>128</td>\n",
       "      <td>COL</td>\n",
       "      <td>20100927142837</td>\n",
       "      <td>C:/Users/Paul/Documents/software/development/c...</td>\n",
       "      <td>1.3.6.1.4.1.9590.100.1.2.387727528911111086018...</td>\n",
       "      <td>8.0</td>\n",
       "      <td>True</td>\n",
       "      <td>1.875</td>\n",
       "      <td>1.875</td>\n",
       "      <td>4</td>\n",
       "    </tr>\n",
       "    <tr>\n",
       "      <th>0</th>\n",
       "      <td>136</td>\n",
       "      <td>COL</td>\n",
       "      <td>20100927142842</td>\n",
       "      <td>C:/Users/Paul/Documents/software/development/c...</td>\n",
       "      <td>1.3.6.1.4.1.9590.100.1.2.179640207711685752107...</td>\n",
       "      <td>8.0</td>\n",
       "      <td>True</td>\n",
       "      <td>1.875</td>\n",
       "      <td>1.875</td>\n",
       "      <td>4</td>\n",
       "    </tr>\n",
       "    <tr>\n",
       "      <th>0</th>\n",
       "      <td>144</td>\n",
       "      <td>COL</td>\n",
       "      <td>20100927142842</td>\n",
       "      <td>C:/Users/Paul/Documents/software/development/c...</td>\n",
       "      <td>1.3.6.1.4.1.9590.100.1.2.260462601011868143712...</td>\n",
       "      <td>8.0</td>\n",
       "      <td>True</td>\n",
       "      <td>1.875</td>\n",
       "      <td>1.875</td>\n",
       "      <td>4</td>\n",
       "    </tr>\n",
       "  </tbody>\n",
       "</table>\n",
       "</div>"
      ],
      "text/plain": [
       "   slice_location phase_encode        datetime  \\\n",
       "0              56          COL  20100927142817   \n",
       "0              64          COL  20100927142817   \n",
       "0              72          COL  20100927142822   \n",
       "0              80          COL  20100927142822   \n",
       "0              88          COL  20100927142827   \n",
       "0              96          COL  20100927142827   \n",
       "0             104          COL  20100927142832   \n",
       "0             112          COL  20100927142832   \n",
       "0             120          COL  20100927142837   \n",
       "0             128          COL  20100927142837   \n",
       "0             136          COL  20100927142842   \n",
       "0             144          COL  20100927142842   \n",
       "\n",
       "                                          dicom_path  \\\n",
       "0  C:/Users/Paul/Documents/software/development/c...   \n",
       "0  C:/Users/Paul/Documents/software/development/c...   \n",
       "0  C:/Users/Paul/Documents/software/development/c...   \n",
       "0  C:/Users/Paul/Documents/software/development/c...   \n",
       "0  C:/Users/Paul/Documents/software/development/c...   \n",
       "0  C:/Users/Paul/Documents/software/development/c...   \n",
       "0  C:/Users/Paul/Documents/software/development/c...   \n",
       "0  C:/Users/Paul/Documents/software/development/c...   \n",
       "0  C:/Users/Paul/Documents/software/development/c...   \n",
       "0  C:/Users/Paul/Documents/software/development/c...   \n",
       "0  C:/Users/Paul/Documents/software/development/c...   \n",
       "0  C:/Users/Paul/Documents/software/development/c...   \n",
       "\n",
       "                                            dicom_id  slice_thickness  \\\n",
       "0  1.3.6.1.4.1.9590.100.1.2.172053503312281364121...              8.0   \n",
       "0  1.3.6.1.4.1.9590.100.1.2.327507644213058969518...              8.0   \n",
       "0  1.3.6.1.4.1.9590.100.1.2.318223274812269669624...              8.0   \n",
       "0  1.3.6.1.4.1.9590.100.1.2.158673170114156499083...              8.0   \n",
       "0  1.3.6.1.4.1.9590.100.1.2.187757150513143713742...              8.0   \n",
       "0  1.3.6.1.4.1.9590.100.1.2.344654518012187299908...              8.0   \n",
       "0  1.3.6.1.4.1.9590.100.1.2.184797745122824342103...              8.0   \n",
       "0  1.3.6.1.4.1.9590.100.1.2.294259932120461315333...              8.0   \n",
       "0  1.3.6.1.4.1.9590.100.1.2.240128468811107296042...              8.0   \n",
       "0  1.3.6.1.4.1.9590.100.1.2.387727528911111086018...              8.0   \n",
       "0  1.3.6.1.4.1.9590.100.1.2.179640207711685752107...              8.0   \n",
       "0  1.3.6.1.4.1.9590.100.1.2.260462601011868143712...              8.0   \n",
       "\n",
       "   basal_slice  pixel_spacing_x  pixel_spacing_y  upsample_factor  \n",
       "0         True            1.875            1.875                4  \n",
       "0         True            1.875            1.875                4  \n",
       "0         True            1.875            1.875                4  \n",
       "0         True            1.875            1.875                4  \n",
       "0         True            1.875            1.875                4  \n",
       "0         True            1.875            1.875                4  \n",
       "0         True            1.875            1.875                4  \n",
       "0         True            1.875            1.875                4  \n",
       "0         True            1.875            1.875                4  \n",
       "0         True            1.875            1.875                4  \n",
       "0         True            1.875            1.875                4  \n",
       "0         True            1.875            1.875                4  "
      ]
     },
     "execution_count": 62,
     "metadata": {},
     "output_type": "execute_result"
    }
   ],
   "source": [
    "dicoms_data"
   ]
  },
  {
   "cell_type": "markdown",
   "metadata": {},
   "source": [
    "# Voxelise a surface mesh"
   ]
  },
  {
   "cell_type": "code",
   "execution_count": 74,
   "metadata": {},
   "outputs": [],
   "source": [
    "case = openep.load_openep_mat(DATASET_2)\n",
    "mesh = case.create_mesh()\n",
    "voxel_grid = openep.mesh.voxelise(\n",
    "    mesh=mesh,\n",
    "    thickness=2,  # either a float or an array of floats (one per node in the mesh)\n",
    "    edge_length=1.0,  # sets the resolution (mm) of the grid\n",
    ")\n"
   ]
  },
  {
   "cell_type": "code",
   "execution_count": 75,
   "metadata": {},
   "outputs": [
    {
     "name": "stderr",
     "output_type": "stream",
     "text": [
      "c:\\Anaconda3\\envs\\openep-tutorials\\lib\\site-packages\\traittypes\\traittypes.py:97: UserWarning: Given trait value dtype \"float32\" does not match required type \"float64\". A coerced copy has been created.\n",
      "  warnings.warn(\n"
     ]
    },
    {
     "data": {
      "application/vnd.jupyter.widget-view+json": {
       "model_id": "a5a0068202734e2aa1b1cfefa685dffe",
       "version_major": 2,
       "version_minor": 0
      },
      "text/plain": [
       "Scene(background_color='#4c4c4c', camera={'position': [119.9725943786629, 39.972594378662905, 264.972594378662…"
      ]
     },
     "metadata": {},
     "output_type": "display_data"
    }
   ],
   "source": [
    "plotter = pyvista.Plotter()\n",
    "plotter.add_mesh(mesh, pickable=False)\n",
    "plotter.add_mesh_clip_plane(\n",
    "    voxel_grid,\n",
    "    cmap='Greys',\n",
    "    clim=[0, 1],\n",
    "    interpolate_before_map=False,\n",
    "    show_scalar_bar=False,\n",
    ")\n",
    "plotter.show()\n"
   ]
  },
  {
   "cell_type": "markdown",
   "metadata": {},
   "source": [
    "### Extract the myocardium from the voxelised grid\n"
   ]
  },
  {
   "cell_type": "code",
   "execution_count": 77,
   "metadata": {},
   "outputs": [],
   "source": [
    "voxel_grid = openep.mesh.voxelise(\n",
    "    mesh=mesh,\n",
    "    thickness=2,  # either a float or an array of floats (one per node in the mesh)\n",
    "    edge_length=1.0,  # sets the resolution (mm) of the grid\n",
    "    extract_myocardium=True,\n",
    ")\n"
   ]
  },
  {
   "cell_type": "code",
   "execution_count": 78,
   "metadata": {},
   "outputs": [
    {
     "data": {
      "application/vnd.jupyter.widget-view+json": {
       "model_id": "9aeb48f16b7b41fdba88fef9ae305f5f",
       "version_major": 2,
       "version_minor": 0
      },
      "text/plain": [
       "AppLayout(children=(VBox(children=(HTML(value='<h3>Filled</h3>'), Dropdown(description='Colormap:', options={'…"
      ]
     },
     "metadata": {},
     "output_type": "display_data"
    }
   ],
   "source": [
    "voxel_grid.plot()"
   ]
  }
 ],
 "metadata": {
  "kernelspec": {
   "display_name": "Python 3.9.7 ('openep-tutorials')",
   "language": "python",
   "name": "python3"
  },
  "language_info": {
   "codemirror_mode": {
    "name": "ipython",
    "version": 3
   },
   "file_extension": ".py",
   "mimetype": "text/x-python",
   "name": "python",
   "nbconvert_exporter": "python",
   "pygments_lexer": "ipython3",
   "version": "3.9.7"
  },
  "vscode": {
   "interpreter": {
    "hash": "3677f6f3ac8167cdf158173e66f9a83d16cfd449037c01afb05ac0b318fa102f"
   }
  }
 },
 "nbformat": 4,
 "nbformat_minor": 2
}
