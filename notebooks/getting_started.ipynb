{
 "cells": [
  {
   "cell_type": "code",
   "execution_count": 1,
   "metadata": {},
   "outputs": [],
   "source": [
    "import openep\n",
    "from openep._datasets.openep_datasets import DATASET_2"
   ]
  },
  {
   "cell_type": "code",
   "execution_count": 2,
   "metadata": {},
   "outputs": [],
   "source": [
    "# Set the backend used for plotting\n",
    "import pyvista\n",
    "pyvista.set_jupyter_backend('ipygany')"
   ]
  },
  {
   "cell_type": "markdown",
   "metadata": {},
   "source": [
    "# Load a case\n",
    "We will load a `.mat` file that was created using OpenEP-MATLAB and then take a look at the data stored in the case"
   ]
  },
  {
   "cell_type": "code",
   "execution_count": 7,
   "metadata": {},
   "outputs": [],
   "source": [
    "case = openep.load_openep_mat(DATASET_2)"
   ]
  },
  {
   "cell_type": "markdown",
   "metadata": {},
   "source": [
    "Note, `DATASET_2` is simply a path to a `.mat` file"
   ]
  },
  {
   "cell_type": "code",
   "execution_count": 8,
   "metadata": {
    "scrolled": true
   },
   "outputs": [
    {
     "name": "stdout",
     "output_type": "stream",
     "text": [
      "/data/KCL/Paul/miniconda3/envs/openep-tutorials/lib/python3.9/site-packages/openep/_datasets/OpenEP-MATLAB/openep_dataset_2.mat\n"
     ]
    }
   ],
   "source": [
    "print(DATASET_2)"
   ]
  },
  {
   "cell_type": "markdown",
   "metadata": {},
   "source": [
    "### Look at the surface data\n"
   ]
  },
  {
   "cell_type": "code",
   "execution_count": 12,
   "metadata": {},
   "outputs": [
    {
     "name": "stdout",
     "output_type": "stream",
     "text": [
      "openep_dataset_2.mat( nodes: (14383, 3) indices: (16942, 3) fields: ('bipolar_voltage', 'unipolar_voltage', 'local_activation_time', 'impedance', 'force', 'thickness', 'cell_region', 'longitudinal_fibres', 'transverse_fibres', 'pacing_site') )\n"
     ]
    }
   ],
   "source": [
    "print(case)  # The surface mesh has 14383 nodes, 16942 triangles"
   ]
  },
  {
   "cell_type": "markdown",
   "metadata": {},
   "source": [
    "The nodes and triangle data of the surface mesh are stored in `case.points` and `case.indices` respectively"
   ]
  },
  {
   "cell_type": "code",
   "execution_count": 19,
   "metadata": {},
   "outputs": [
    {
     "data": {
      "text/plain": [
       "array([[ 46.451, -98.879, 155.286],\n",
       "       [ 38.777, -94.997, 121.448],\n",
       "       [ 37.268, -69.189, 141.284],\n",
       "       ...,\n",
       "       [-62.585, -77.163, 133.982],\n",
       "       [-63.766, -76.47 , 119.425],\n",
       "       [-64.5  , -75.396, 119.241]])"
      ]
     },
     "execution_count": 19,
     "metadata": {},
     "output_type": "execute_result"
    }
   ],
   "source": [
    "case.points  # the x, y, z coordinate of each node in the surface mesh"
   ]
  },
  {
   "cell_type": "code",
   "execution_count": 21,
   "metadata": {},
   "outputs": [
    {
     "data": {
      "text/plain": [
       "array([[ 5343,  7474,  7523],\n",
       "       [ 7976,  4159,  4138],\n",
       "       [ 7953,  5780, 12295],\n",
       "       ...,\n",
       "       [10283, 10270, 14360],\n",
       "       [10283, 14360, 14361],\n",
       "       [14380,  6871, 14364]])"
      ]
     },
     "execution_count": 21,
     "metadata": {},
     "output_type": "execute_result"
    }
   ],
   "source": [
    "case.indices  # the indices of nodes in each triagle"
   ]
  },
  {
   "cell_type": "markdown",
   "metadata": {},
   "source": [
    "Scalar data associated with the mesh are stored in `case.fields`"
   ]
  },
  {
   "cell_type": "code",
   "execution_count": 23,
   "metadata": {},
   "outputs": [
    {
     "data": {
      "text/plain": [
       "fields: ('bipolar_voltage', 'unipolar_voltage', 'local_activation_time', 'impedance', 'force', 'thickness', 'cell_region', 'longitudinal_fibres', 'transverse_fibres', 'pacing_site')"
      ]
     },
     "execution_count": 23,
     "metadata": {},
     "output_type": "execute_result"
    }
   ],
   "source": [
    "case.fields"
   ]
  },
  {
   "cell_type": "code",
   "execution_count": 24,
   "metadata": {},
   "outputs": [
    {
     "data": {
      "text/plain": [
       "array([    nan, 1.07604, 1.71656, ..., 0.32316, 0.16372, 0.19536])"
      ]
     },
     "execution_count": 24,
     "metadata": {},
     "output_type": "execute_result"
    }
   ],
   "source": [
    "case.fields.bipolar_voltage"
   ]
  },
  {
   "cell_type": "markdown",
   "metadata": {},
   "source": [
    "### Visualising the surface mesh"
   ]
  },
  {
   "cell_type": "code",
   "execution_count": 14,
   "metadata": {},
   "outputs": [],
   "source": [
    "mesh = case.create_mesh()  # creates a pyvista.PolyData mesh from case.points and case.indices"
   ]
  },
  {
   "cell_type": "code",
   "execution_count": 19,
   "metadata": {},
   "outputs": [
    {
     "data": {
      "text/html": [
       "<table><tr><th>Header</th><th>Data Arrays</th></tr><tr><td>\n",
       "<table>\n",
       "<tr><th>PolyData</th><th>Information</th></tr>\n",
       "<tr><td>N Cells</td><td>16942</td></tr>\n",
       "<tr><td>N Points</td><td>14383</td></tr>\n",
       "<tr><td>X Bounds</td><td>-7.584e+01, 6.374e+01</td></tr>\n",
       "<tr><td>Y Bounds</td><td>-1.300e+02, -3.585e+01</td></tr>\n",
       "<tr><td>Z Bounds</td><td>7.937e+01, 1.712e+02</td></tr>\n",
       "<tr><td>N Arrays</td><td>2</td></tr>\n",
       "</table>\n",
       "\n",
       "</td><td>\n",
       "<table>\n",
       "<tr><th>Name</th><th>Field</th><th>Type</th><th>N Comp</th><th>Min</th><th>Max</th></tr>\n",
       "<tr><td><b>Data</b></td><td>Points</td><td>float64</td><td>1</td><td>3.600e-02</td><td>4.614e+00</td></tr>\n",
       "<tr><td>Normals</td><td>Points</td><td>float32</td><td>3</td><td>-1.000e+00</td><td>1.000e+00</td></tr>\n",
       "</table>\n",
       "\n",
       "</td></tr> </table>"
      ],
      "text/plain": [
       "PolyData (0x7ff36d10de80)\n",
       "  N Cells:\t16942\n",
       "  N Points:\t14383\n",
       "  X Bounds:\t-7.584e+01, 6.374e+01\n",
       "  Y Bounds:\t-1.300e+02, -3.585e+01\n",
       "  Z Bounds:\t7.937e+01, 1.712e+02\n",
       "  N Arrays:\t2"
      ]
     },
     "execution_count": 19,
     "metadata": {},
     "output_type": "execute_result"
    }
   ],
   "source": [
    "mesh"
   ]
  },
  {
   "cell_type": "code",
   "execution_count": 26,
   "metadata": {},
   "outputs": [],
   "source": [
    "plotter = openep.draw.draw_map(\n",
    "    mesh=mesh,\n",
    "    field=case.fields.bipolar_voltage,\n",
    "    add_mesh_kws=dict(cmap='Turbo'),\n",
    ")  # creates a pyvista.Plotter\n"
   ]
  },
  {
   "cell_type": "code",
   "execution_count": 27,
   "metadata": {},
   "outputs": [
    {
     "data": {
      "application/vnd.jupyter.widget-view+json": {
       "model_id": "a0de72c38b594e28bd05fcb088049b72",
       "version_major": 2,
       "version_minor": 0
      },
      "text/plain": [
       "AppLayout(children=(VBox(children=(HTML(value='<h3></h3>'), Dropdown(description='Colormap:', options={'BrBG':…"
      ]
     },
     "metadata": {},
     "output_type": "display_data"
    }
   ],
   "source": [
    "plotter.show()"
   ]
  },
  {
   "cell_type": "code",
   "execution_count": 39,
   "metadata": {},
   "outputs": [
    {
     "data": {
      "application/vnd.jupyter.widget-view+json": {
       "model_id": "1498a7df83724fb5871bf3b733c83415",
       "version_major": 2,
       "version_minor": 0
      },
      "text/plain": [
       "AppLayout(children=(VBox(children=(HTML(value='<h3>Data</h3>'), Dropdown(description='Colormap:', options={'Br…"
      ]
     },
     "metadata": {},
     "output_type": "display_data"
    }
   ],
   "source": [
    "mesh.plot()"
   ]
  },
  {
   "cell_type": "markdown",
   "metadata": {},
   "source": [
    "### Electrical data\n",
    "The bipolar electrograms, unipolar electrograms, reference electrograms, and ecgs are all stored in `case.electric`"
   ]
  },
  {
   "cell_type": "code",
   "execution_count": 9,
   "metadata": {},
   "outputs": [
    {
     "data": {
      "text/plain": [
       "Electric data for 800 mapping points."
      ]
     },
     "execution_count": 9,
     "metadata": {},
     "output_type": "execute_result"
    }
   ],
   "source": [
    "case.electric  # we see there are 800 mapping points in this case"
   ]
  },
  {
   "cell_type": "code",
   "execution_count": 10,
   "metadata": {},
   "outputs": [
    {
     "data": {
      "text/plain": [
       "Electrograms with 800 mapping points."
      ]
     },
     "execution_count": 10,
     "metadata": {},
     "output_type": "execute_result"
    }
   ],
   "source": [
    "case.electric.bipolar_egm  # this is an Electrogram object, containing information about bipolar egms"
   ]
  },
  {
   "cell_type": "code",
   "execution_count": 15,
   "metadata": {},
   "outputs": [
    {
     "data": {
      "text/plain": [
       "['__class__',\n",
       " '__delattr__',\n",
       " '__dict__',\n",
       " '__dir__',\n",
       " '__doc__',\n",
       " '__eq__',\n",
       " '__format__',\n",
       " '__ge__',\n",
       " '__getattribute__',\n",
       " '__gt__',\n",
       " '__hash__',\n",
       " '__init__',\n",
       " '__init_subclass__',\n",
       " '__le__',\n",
       " '__lt__',\n",
       " '__module__',\n",
       " '__ne__',\n",
       " '__new__',\n",
       " '__reduce__',\n",
       " '__reduce_ex__',\n",
       " '__repr__',\n",
       " '__setattr__',\n",
       " '__sizeof__',\n",
       " '__str__',\n",
       " '__subclasshook__',\n",
       " '__weakref__',\n",
       " '_egm',\n",
       " '_gain',\n",
       " '_is_electrical',\n",
       " '_names',\n",
       " '_points',\n",
       " '_voltage',\n",
       " 'copy',\n",
       " 'egm',\n",
       " 'gain',\n",
       " 'n_points',\n",
       " 'n_samples',\n",
       " 'names',\n",
       " 'points',\n",
       " 'voltage']"
      ]
     },
     "execution_count": 15,
     "metadata": {},
     "output_type": "execute_result"
    }
   ],
   "source": [
    "dir(case.electric.bipolar_egm)"
   ]
  },
  {
   "cell_type": "code",
   "execution_count": 53,
   "metadata": {},
   "outputs": [
    {
     "data": {
      "image/png": "[encoded data removed]",
      "text/plain": [
       "<Figure size 600x120 with 1 Axes>"
      ]
     },
     "metadata": {},
     "output_type": "display_data"
    }
   ],
   "source": [
    "egm_figure, egm_axes = openep.draw.plot_electrograms(\n",
    "    times=case.electric.times,\n",
    "    electrograms=case.electric.bipolar_egm.egm[:3],  # plot the first 3 electrograms\n",
    "    names=case.electric.bipolar_egm.names[:3],  # pass the first 3 electrode names\n",
    ")  # creates a matplotlib.pyplot.Figure and matplotlib.pyplot.Axes\n"
   ]
  },
  {
   "cell_type": "code",
   "execution_count": 54,
   "metadata": {},
   "outputs": [
    {
     "data": {
      "image/png": "[encoded data removed]",
      "text/plain": [
       "<Figure size 600x120 with 1 Axes>"
      ]
     },
     "execution_count": 54,
     "metadata": {},
     "output_type": "execute_result"
    }
   ],
   "source": [
    "egm_figure"
   ]
  },
  {
   "cell_type": "code",
   "execution_count": 52,
   "metadata": {},
   "outputs": [
    {
     "data": {
      "text/plain": [
       "<AxesSubplot:>"
      ]
     },
     "execution_count": 52,
     "metadata": {},
     "output_type": "execute_result"
    }
   ],
   "source": [
    "egm_axes"
   ]
  },
  {
   "cell_type": "markdown",
   "metadata": {},
   "source": [
    "### Interpolate electrical data onto the surface mesh\n",
    "The bipolar voltage we visualised above (`case.fields.bipolar_voltage`) was calculated by CARTO and then exported from the mapping system.\n",
    "\n",
    "However, it is not known what interpolation method is used by CARTO (or other system vendors) nor the interpolation parameters.\n",
    "\n",
    "We can use OpenEP to re-interpolate electrical data onto the surface."
   ]
  },
  {
   "cell_type": "code",
   "execution_count": 74,
   "metadata": {},
   "outputs": [],
   "source": [
    "bipolar_voltage = openep.case.interpolate_voltage_onto_surface(case=case)"
   ]
  },
  {
   "cell_type": "code",
   "execution_count": 72,
   "metadata": {},
   "outputs": [
    {
     "data": {
      "application/vnd.jupyter.widget-view+json": {
       "model_id": "dfc1159d056949eab33bfd8f940474cf",
       "version_major": 2,
       "version_minor": 0
      },
      "text/plain": [
       "AppLayout(children=(VBox(children=(HTML(value='<h3></h3>'), Dropdown(description='Colormap:', options={'BrBG':…"
      ]
     },
     "metadata": {},
     "output_type": "display_data"
    }
   ],
   "source": [
    "plotter = openep.draw.draw_map(\n",
    "    mesh=mesh,\n",
    "    field=case.fields.bipolar_voltage,\n",
    "    add_mesh_kws=dict(cmap='Turbo'),\n",
    "    plotter=plotter,\n",
    ")\n",
    "plotter.show()\n"
   ]
  },
  {
   "cell_type": "code",
   "execution_count": 76,
   "metadata": {},
   "outputs": [
    {
     "data": {
      "application/vnd.jupyter.widget-view+json": {
       "model_id": "90beb7dc2a914d37aec9d01015ecef1d",
       "version_major": 2,
       "version_minor": 0
      },
      "text/plain": [
       "AppLayout(children=(VBox(children=(HTML(value='<h3></h3>'), Dropdown(description='Colormap:', options={'BrBG':…"
      ]
     },
     "metadata": {},
     "output_type": "display_data"
    }
   ],
   "source": [
    "plotter = openep.draw.draw_map(\n",
    "    mesh=mesh,\n",
    "    field=bipolar_voltage,\n",
    "    add_mesh_kws=dict(cmap='Turbo'),\n",
    "    plotter=plotter,\n",
    ")\n",
    "plotter.show()\n"
   ]
  },
  {
   "cell_type": "code",
   "execution_count": null,
   "metadata": {},
   "outputs": [],
   "source": []
  }
 ],
 "metadata": {
  "kernelspec": {
   "display_name": "Python 3 (ipykernel)",
   "language": "python",
   "name": "python3"
  },
  "language_info": {
   "codemirror_mode": {
    "name": "ipython",
    "version": 3
   },
   "file_extension": ".py",
   "mimetype": "text/x-python",
   "name": "python",
   "nbconvert_exporter": "python",
   "pygments_lexer": "ipython3",
   "version": "3.9.7"
  },
  "vscode": {
   "interpreter": {
    "hash": "0a4359d27a983cff32fcf095f4547555a5a1033eff1494389832674483dda890"
   }
  }
 },
 "nbformat": 4,
 "nbformat_minor": 2
}
